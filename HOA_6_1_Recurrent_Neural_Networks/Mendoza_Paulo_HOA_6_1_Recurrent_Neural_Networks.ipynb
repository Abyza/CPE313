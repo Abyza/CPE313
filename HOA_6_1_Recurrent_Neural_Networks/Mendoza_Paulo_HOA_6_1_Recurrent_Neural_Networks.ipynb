{
  "cells": [
    {
      "cell_type": "markdown",
      "id": "fourth-lesbian",
      "metadata": {
        "id": "fourth-lesbian"
      },
      "source": [
        "# Hands-on Activity 6.1 Recurrent Neural Networks"
      ]
    },
    {
      "cell_type": "markdown",
      "source": [
        "Technological Institute of the Philippines | Quezon City - Computer Engineering\n",
        "--- | ---\n",
        "Course Code: | CPE 313\n",
        "Code Title: | Advanced Machine Learning and Deep Learning\n",
        "2nd Semester | AY 2023-2024\n",
        "--- | ---\n",
        "<u>**ACTIVITY NO. 6.1** | **Recurrent_Neural_Networks**\n",
        "**Name** | Mendoza, Paulo\n",
        "--- | ---\n",
        "**Section** | CPE32S8\n",
        "**Date Performed**: | May 10, 2024\n",
        "**Date Submitted**: | May 10, 2024\n",
        "**Instructor**: | Engr. Roman M. Richard"
      ],
      "metadata": {
        "id": "OYkeoWAkqQ00"
      },
      "id": "OYkeoWAkqQ00"
    },
    {
      "cell_type": "markdown",
      "id": "historical-import",
      "metadata": {
        "id": "historical-import"
      },
      "source": [
        "#### Objective(s):\n",
        "\n",
        "This activity aims to introduce how to build a recurrent neural network"
      ]
    },
    {
      "cell_type": "markdown",
      "id": "related-karma",
      "metadata": {
        "id": "related-karma"
      },
      "source": [
        "#### Intended Learning Outcomes (ILOs):\n",
        "* Demonstrate how to build and train neural recurrent neural network\n",
        "* Evaluate the score and accuracy of the recurrent neural network"
      ]
    },
    {
      "cell_type": "markdown",
      "id": "fossil-thermal",
      "metadata": {
        "id": "fossil-thermal"
      },
      "source": [
        "#### Resources:\n",
        "* Jupyter Notebook\n",
        "* IMDB"
      ]
    },
    {
      "cell_type": "markdown",
      "id": "australian-marketing",
      "metadata": {
        "id": "australian-marketing"
      },
      "source": [
        "#### Procedures\n",
        "Load the necessary libraries"
      ]
    },
    {
      "cell_type": "code",
      "execution_count": 1,
      "id": "based-growing",
      "metadata": {
        "id": "based-growing"
      },
      "outputs": [],
      "source": [
        "from __future__ import print_function\n",
        "import keras\n",
        "from keras.preprocessing import sequence\n",
        "from keras.models import Sequential\n",
        "from keras.layers import Dense, Embedding\n",
        "from keras.layers import SimpleRNN\n",
        "from keras.datasets import imdb\n",
        "from keras import initializers"
      ]
    },
    {
      "cell_type": "markdown",
      "id": "romance-object",
      "metadata": {
        "id": "romance-object"
      },
      "source": [
        "* Set the max_features to 20000\n",
        "* Set the maximum length of a sequence\n",
        "* Use the batch size of 32"
      ]
    },
    {
      "cell_type": "code",
      "execution_count": 2,
      "id": "pending-finance",
      "metadata": {
        "id": "pending-finance"
      },
      "outputs": [],
      "source": [
        "max_features = 20000\n",
        "maxlen = 30\n",
        "batch_size = 32"
      ]
    },
    {
      "cell_type": "markdown",
      "id": "juvenile-defensive",
      "metadata": {
        "id": "juvenile-defensive"
      },
      "source": [
        "Load the data"
      ]
    },
    {
      "cell_type": "code",
      "execution_count": 3,
      "id": "familiar-escape",
      "metadata": {
        "colab": {
          "base_uri": "https://localhost:8080/"
        },
        "id": "familiar-escape",
        "outputId": "7e15fa59-1998-4c8e-e60c-1e9e488d96b3"
      },
      "outputs": [
        {
          "output_type": "stream",
          "name": "stdout",
          "text": [
            "Downloading data from https://storage.googleapis.com/tensorflow/tf-keras-datasets/imdb.npz\n",
            "17464789/17464789 [==============================] - 0s 0us/step\n",
            "25000 train sequences\n",
            "25000 test sequences\n"
          ]
        }
      ],
      "source": [
        "\n",
        "(x_train, y_train), (x_test, y_test) = imdb.load_data(num_words=max_features)\n",
        "print(len(x_train), 'train sequences')\n",
        "print(len(x_test), 'test sequences')"
      ]
    },
    {
      "cell_type": "markdown",
      "id": "hairy-volleyball",
      "metadata": {
        "id": "hairy-volleyball"
      },
      "source": [
        " Truncates the sequences so that they are of the maximum length"
      ]
    },
    {
      "cell_type": "code",
      "execution_count": 4,
      "id": "distant-praise",
      "metadata": {
        "colab": {
          "base_uri": "https://localhost:8080/"
        },
        "id": "distant-praise",
        "outputId": "e9b7502f-5943-4808-d6c2-17153299b7e9"
      },
      "outputs": [
        {
          "output_type": "stream",
          "name": "stdout",
          "text": [
            "x_train shape: (25000, 30)\n",
            "x_test shape: (25000, 30)\n"
          ]
        }
      ],
      "source": [
        "\n",
        "x_train = sequence.pad_sequences(x_train, maxlen=maxlen)\n",
        "x_test = sequence.pad_sequences(x_test, maxlen=maxlen)\n",
        "print('x_train shape:', x_train.shape)\n",
        "print('x_test shape:', x_test.shape)"
      ]
    },
    {
      "cell_type": "markdown",
      "source": [
        "Check the example of sequence"
      ],
      "metadata": {
        "id": "77xiYkr3rQWf"
      },
      "id": "77xiYkr3rQWf"
    },
    {
      "cell_type": "code",
      "execution_count": 5,
      "id": "surprising-bacteria",
      "metadata": {
        "colab": {
          "base_uri": "https://localhost:8080/"
        },
        "id": "surprising-bacteria",
        "outputId": "7a2fe29a-31d6-48fe-d94d-02bab829d127"
      },
      "outputs": [
        {
          "output_type": "execute_result",
          "data": {
            "text/plain": [
              "array([  219,   141,    35,   221,   956,    54,    13,    16,    11,\n",
              "        2714,    61,   322,   423,    12,    38,    76,    59,  1803,\n",
              "          72,     8, 10508,    23,     5,   967,    12,    38,    85,\n",
              "          62,   358,    99], dtype=int32)"
            ]
          },
          "metadata": {},
          "execution_count": 5
        }
      ],
      "source": [
        "x_train[123,:]"
      ]
    },
    {
      "cell_type": "code",
      "source": [
        "x_train[0]"
      ],
      "metadata": {
        "colab": {
          "base_uri": "https://localhost:8080/"
        },
        "id": "HpzlthQus4VB",
        "outputId": "596c92e2-c1b2-4754-e5dc-6ed1fc881ecd"
      },
      "id": "HpzlthQus4VB",
      "execution_count": 11,
      "outputs": [
        {
          "output_type": "execute_result",
          "data": {
            "text/plain": [
              "array([  18,   51,   36,   28,  224,   92,   25,  104,    4,  226,   65,\n",
              "         16,   38, 1334,   88,   12,   16,  283,    5,   16, 4472,  113,\n",
              "        103,   32,   15,   16, 5345,   19,  178,   32], dtype=int32)"
            ]
          },
          "metadata": {},
          "execution_count": 11
        }
      ]
    },
    {
      "cell_type": "code",
      "source": [
        "y_train[10]"
      ],
      "metadata": {
        "colab": {
          "base_uri": "https://localhost:8080/"
        },
        "id": "_nMGAM58s47S",
        "outputId": "e3994cec-4114-4d0c-85f6-1c51112fd79d"
      },
      "id": "_nMGAM58s47S",
      "execution_count": 17,
      "outputs": [
        {
          "output_type": "execute_result",
          "data": {
            "text/plain": [
              "1"
            ]
          },
          "metadata": {},
          "execution_count": 17
        }
      ]
    },
    {
      "cell_type": "markdown",
      "id": "quantitative-breath",
      "metadata": {
        "id": "quantitative-breath"
      },
      "source": [
        "Build a recurrent neural network"
      ]
    },
    {
      "cell_type": "code",
      "execution_count": 6,
      "id": "closed-writer",
      "metadata": {
        "id": "closed-writer"
      },
      "outputs": [],
      "source": [
        "rnn_hidden_dim = 5\n",
        "word_embedding_dim = 50\n",
        "model_rnn = Sequential()\n",
        "model_rnn.add(Embedding(max_features, word_embedding_dim))  #This layer takes each integer in the sequence and embeds it in a 50-dimensional vector\n",
        "model_rnn.add(SimpleRNN(rnn_hidden_dim,\n",
        "                    kernel_initializer=initializers.RandomNormal(stddev=0.001),\n",
        "                    recurrent_initializer=initializers.Identity(gain=1.0),\n",
        "                    activation='relu',\n",
        "                    input_shape=x_train.shape[1:]))\n",
        "\n",
        "model_rnn.add(Dense(1, activation='sigmoid'))"
      ]
    },
    {
      "cell_type": "code",
      "source": [
        "model_rnn.summary()"
      ],
      "metadata": {
        "colab": {
          "base_uri": "https://localhost:8080/"
        },
        "id": "9J3DXU0croiK",
        "outputId": "50eab9e5-08d4-4014-f303-4cc49b617f1d"
      },
      "id": "9J3DXU0croiK",
      "execution_count": 7,
      "outputs": [
        {
          "output_type": "stream",
          "name": "stdout",
          "text": [
            "Model: \"sequential\"\n",
            "_________________________________________________________________\n",
            " Layer (type)                Output Shape              Param #   \n",
            "=================================================================\n",
            " embedding (Embedding)       (None, None, 50)          1000000   \n",
            "                                                                 \n",
            " simple_rnn (SimpleRNN)      (None, 5)                 280       \n",
            "                                                                 \n",
            " dense (Dense)               (None, 1)                 6         \n",
            "                                                                 \n",
            "=================================================================\n",
            "Total params: 1000286 (3.82 MB)\n",
            "Trainable params: 1000286 (3.82 MB)\n",
            "Non-trainable params: 0 (0.00 Byte)\n",
            "_________________________________________________________________\n"
          ]
        }
      ]
    },
    {
      "cell_type": "code",
      "execution_count": 8,
      "id": "developmental-foster",
      "metadata": {
        "colab": {
          "base_uri": "https://localhost:8080/"
        },
        "id": "developmental-foster",
        "outputId": "84ab96cc-550f-4952-99c3-cbc1b4cfcb5d"
      },
      "outputs": [
        {
          "output_type": "stream",
          "name": "stderr",
          "text": [
            "WARNING:absl:`lr` is deprecated in Keras optimizer, please use `learning_rate` or use the legacy optimizer, e.g.,tf.keras.optimizers.legacy.RMSprop.\n"
          ]
        }
      ],
      "source": [
        "rmsprop = keras.optimizers.RMSprop(lr = .0001)\n",
        "\n",
        "model_rnn.compile(loss='binary_crossentropy',\n",
        "              optimizer=rmsprop,\n",
        "              metrics=['accuracy'])"
      ]
    },
    {
      "cell_type": "code",
      "execution_count": 9,
      "id": "joined-athletics",
      "metadata": {
        "colab": {
          "base_uri": "https://localhost:8080/"
        },
        "id": "joined-athletics",
        "outputId": "fd33d130-b60d-4735-f621-75bb9165b4e4"
      },
      "outputs": [
        {
          "output_type": "stream",
          "name": "stdout",
          "text": [
            "Epoch 1/10\n",
            "782/782 [==============================] - 16s 19ms/step - loss: 0.5558 - accuracy: 0.7022 - val_loss: 0.4632 - val_accuracy: 0.7766\n",
            "Epoch 2/10\n",
            "782/782 [==============================] - 14s 18ms/step - loss: 0.4161 - accuracy: 0.8083 - val_loss: 0.4480 - val_accuracy: 0.7870\n",
            "Epoch 3/10\n",
            "782/782 [==============================] - 14s 18ms/step - loss: 0.3781 - accuracy: 0.8300 - val_loss: 0.4673 - val_accuracy: 0.7822\n",
            "Epoch 4/10\n",
            "782/782 [==============================] - 15s 20ms/step - loss: 0.3548 - accuracy: 0.8435 - val_loss: 0.4515 - val_accuracy: 0.7838\n",
            "Epoch 5/10\n",
            "782/782 [==============================] - 14s 18ms/step - loss: 0.3361 - accuracy: 0.8564 - val_loss: 0.4465 - val_accuracy: 0.7914\n",
            "Epoch 6/10\n",
            "782/782 [==============================] - 14s 18ms/step - loss: 0.3173 - accuracy: 0.8648 - val_loss: 0.4840 - val_accuracy: 0.7737\n",
            "Epoch 7/10\n",
            "782/782 [==============================] - 13s 17ms/step - loss: 0.3013 - accuracy: 0.8738 - val_loss: 0.4826 - val_accuracy: 0.7826\n",
            "Epoch 8/10\n",
            "782/782 [==============================] - 13s 17ms/step - loss: 0.2875 - accuracy: 0.8830 - val_loss: 0.4929 - val_accuracy: 0.7782\n",
            "Epoch 9/10\n",
            "782/782 [==============================] - 14s 18ms/step - loss: 0.2710 - accuracy: 0.8912 - val_loss: 0.5022 - val_accuracy: 0.7771\n",
            "Epoch 10/10\n",
            "782/782 [==============================] - 14s 18ms/step - loss: 0.2581 - accuracy: 0.8983 - val_loss: 0.5021 - val_accuracy: 0.7818\n"
          ]
        },
        {
          "output_type": "execute_result",
          "data": {
            "text/plain": [
              "<keras.src.callbacks.History at 0x7f98caa1a860>"
            ]
          },
          "metadata": {},
          "execution_count": 9
        }
      ],
      "source": [
        "model_rnn.fit(x_train, y_train,\n",
        "          batch_size=batch_size,\n",
        "          epochs=10,\n",
        "          validation_data=(x_test, y_test))"
      ]
    },
    {
      "cell_type": "markdown",
      "id": "freelance-proposal",
      "metadata": {
        "id": "freelance-proposal"
      },
      "source": [
        "Evaluate the model using the test set."
      ]
    },
    {
      "cell_type": "code",
      "execution_count": 10,
      "id": "early-connecticut",
      "metadata": {
        "colab": {
          "base_uri": "https://localhost:8080/"
        },
        "id": "early-connecticut",
        "outputId": "6e8f999c-f48d-4593-e043-76f64a4f5aed"
      },
      "outputs": [
        {
          "output_type": "stream",
          "name": "stdout",
          "text": [
            "782/782 [==============================] - 3s 3ms/step - loss: 0.5021 - accuracy: 0.7818\n",
            "Test score: 0.5021035671234131\n",
            "Test accuracy: 0.7817599773406982\n"
          ]
        }
      ],
      "source": [
        "score, acc = model_rnn.evaluate(x_test, y_test,\n",
        "                            batch_size=batch_size)\n",
        "print('Test score:', score)\n",
        "print('Test accuracy:', acc)"
      ]
    },
    {
      "cell_type": "markdown",
      "id": "miniature-generic",
      "metadata": {
        "id": "miniature-generic"
      },
      "source": [
        "Interpret the result"
      ]
    },
    {
      "cell_type": "markdown",
      "id": "marine-cotton",
      "metadata": {
        "id": "marine-cotton"
      },
      "source": [
        "The model achieves a test loss of approximately 0.502 and a test accuracy of approximately 0.781, it means moderate performance in the binary classification task. The model was able to tell if the sentiment is positive or negative 78% of the time correctly."
      ]
    },
    {
      "cell_type": "markdown",
      "id": "planned-detection",
      "metadata": {
        "id": "planned-detection"
      },
      "source": [
        "#### Supplementary Activity"
      ]
    },
    {
      "cell_type": "markdown",
      "id": "industrial-frequency",
      "metadata": {
        "id": "industrial-frequency"
      },
      "source": [
        "- Prepare the data to use sequences of length 80 rather than length 30.  Did it improve the performance?\n",
        "- Try different values of the \"max_features\".  Can you improve the performance?\n",
        "- Try smaller and larger sizes of the RNN hidden dimension.  How does it affect the model performance?  How does it affect the run time?\n",
        "\n",
        "Note: answer can be seen after the implementation"
      ]
    },
    {
      "cell_type": "markdown",
      "source": [
        "*This is my own data using the parameters from before*"
      ],
      "metadata": {
        "id": "CvMjx0wy4TNi"
      },
      "id": "CvMjx0wy4TNi"
    },
    {
      "cell_type": "code",
      "execution_count": 53,
      "id": "important-delight",
      "metadata": {
        "colab": {
          "base_uri": "https://localhost:8080/"
        },
        "id": "important-delight",
        "outputId": "18e4b86a-5f8e-4067-ca27-a53dfb647ec9"
      },
      "outputs": [
        {
          "output_type": "stream",
          "name": "stdout",
          "text": [
            "8982 train sequences\n",
            "2246 test sequences\n"
          ]
        }
      ],
      "source": [
        "import numpy as np\n",
        "from keras.datasets import reuters\n",
        "from keras.models import Sequential\n",
        "from keras.layers import Embedding, SimpleRNN, Dense\n",
        "from keras.preprocessing.sequence import pad_sequences\n",
        "from keras.utils import to_categorical\n",
        "\n",
        "# Load the Reuters dataset\n",
        "max_features = 20000\n",
        "maxlen = 30\n",
        "batch_size = 32\n",
        "\n",
        "(x_train, y_train), (x_test, y_test) = reuters.load_data(num_words=max_features)\n",
        "\n",
        "print(len(x_train), 'train sequences')\n",
        "print(len(x_test), 'test sequences')"
      ]
    },
    {
      "cell_type": "code",
      "source": [
        "# Preprocess the data\n",
        "x_train = pad_sequences(x_train, maxlen=maxlen)\n",
        "x_test = pad_sequences(x_test, maxlen=maxlen)\n",
        "print('x_train shape:', x_train.shape)\n",
        "print('x_test shape:', x_test.shape)\n",
        "\n",
        "# One-hot encode the labels\n",
        "num_classes = np.max(y_train) + 1\n",
        "y_train = to_categorical(y_train, num_classes=num_classes)\n",
        "y_test = to_categorical(y_test, num_classes=num_classes)\n"
      ],
      "metadata": {
        "colab": {
          "base_uri": "https://localhost:8080/"
        },
        "id": "vpe8mwIwx9K8",
        "outputId": "4e532d8c-dd57-44be-850b-3945d3015f98"
      },
      "id": "vpe8mwIwx9K8",
      "execution_count": 54,
      "outputs": [
        {
          "output_type": "stream",
          "name": "stdout",
          "text": [
            "x_train shape: (8982, 30)\n",
            "x_test shape: (2246, 30)\n"
          ]
        }
      ]
    },
    {
      "cell_type": "code",
      "source": [
        "x_train[123,:]"
      ],
      "metadata": {
        "colab": {
          "base_uri": "https://localhost:8080/"
        },
        "id": "tEqLIsD623Q0",
        "outputId": "698b84d6-45fe-444d-8865-8d76d03fee94"
      },
      "id": "tEqLIsD623Q0",
      "execution_count": 55,
      "outputs": [
        {
          "output_type": "execute_result",
          "data": {
            "text/plain": [
              "array([   0,    0,    0,    0,    0,    0,    1,  144,   62,  155,  361,\n",
              "       1094, 2618,    9,  155, 1094,   62, 2143,    6, 3177,   28, 3298,\n",
              "        519,    6,    4, 3298, 4444,  108,   17,   12], dtype=int32)"
            ]
          },
          "metadata": {},
          "execution_count": 55
        }
      ]
    },
    {
      "cell_type": "code",
      "source": [
        "# Build the model\n",
        "rnn_hidden_dim = 5\n",
        "word_embedding_dim = 50\n",
        "model_rnn = Sequential()\n",
        "model_rnn.add(Embedding(max_features, word_embedding_dim))\n",
        "model_rnn.add(SimpleRNN(rnn_hidden_dim,\n",
        "                    kernel_initializer=initializers.RandomNormal(stddev=0.001),\n",
        "                    recurrent_initializer=initializers.Identity(gain=1.0),\n",
        "                    activation='relu',\n",
        "                    input_shape=x_train.shape[1:]))\n",
        "\n",
        "model_rnn.add(Dense(num_classes, activation='softmax'))\n"
      ],
      "metadata": {
        "id": "JfB8QEyZyPjK"
      },
      "id": "JfB8QEyZyPjK",
      "execution_count": 56,
      "outputs": []
    },
    {
      "cell_type": "code",
      "source": [
        "model_rnn.summary()"
      ],
      "metadata": {
        "colab": {
          "base_uri": "https://localhost:8080/"
        },
        "id": "C22QoUTS3Xv_",
        "outputId": "1af9ccc1-e26a-4757-b02a-5d32aaa1ac0c"
      },
      "id": "C22QoUTS3Xv_",
      "execution_count": 57,
      "outputs": [
        {
          "output_type": "stream",
          "name": "stdout",
          "text": [
            "Model: \"sequential_6\"\n",
            "_________________________________________________________________\n",
            " Layer (type)                Output Shape              Param #   \n",
            "=================================================================\n",
            " embedding_6 (Embedding)     (None, None, 50)          1000000   \n",
            "                                                                 \n",
            " simple_rnn_6 (SimpleRNN)    (None, 5)                 280       \n",
            "                                                                 \n",
            " dense_6 (Dense)             (None, 46)                276       \n",
            "                                                                 \n",
            "=================================================================\n",
            "Total params: 1000556 (3.82 MB)\n",
            "Trainable params: 1000556 (3.82 MB)\n",
            "Non-trainable params: 0 (0.00 Byte)\n",
            "_________________________________________________________________\n"
          ]
        }
      ]
    },
    {
      "cell_type": "code",
      "source": [
        "rmsprop = keras.optimizers.RMSprop(lr = .0001)\n",
        "\n",
        "model_rnn.compile(loss='categorical_crossentropy',\n",
        "              optimizer=rmsprop,\n",
        "              metrics=['accuracy'])"
      ],
      "metadata": {
        "colab": {
          "base_uri": "https://localhost:8080/"
        },
        "id": "y0UlW9Dr3dza",
        "outputId": "136da6f6-779e-46d8-a301-a831f351c55b"
      },
      "id": "y0UlW9Dr3dza",
      "execution_count": 58,
      "outputs": [
        {
          "output_type": "stream",
          "name": "stderr",
          "text": [
            "WARNING:absl:`lr` is deprecated in Keras optimizer, please use `learning_rate` or use the legacy optimizer, e.g.,tf.keras.optimizers.legacy.RMSprop.\n"
          ]
        }
      ]
    },
    {
      "cell_type": "code",
      "source": [
        "\n",
        "# Train the model\n",
        "history = model_rnn.fit(x_train, y_train,\n",
        "          batch_size=batch_size,\n",
        "          epochs=10,\n",
        "          validation_data=(x_test, y_test))\n",
        "\n",
        "# Evaluate the model\n",
        "score, acc = model_rnn.evaluate(x_test, y_test,\n",
        "                            batch_size=batch_size)\n",
        "print('Test score:', score)\n",
        "print('Test accuracy:', acc)"
      ],
      "metadata": {
        "colab": {
          "base_uri": "https://localhost:8080/"
        },
        "id": "2T0od0AFyoKJ",
        "outputId": "746bdafb-865b-4305-a2a0-0a5e9a4b3b0a"
      },
      "id": "2T0od0AFyoKJ",
      "execution_count": 59,
      "outputs": [
        {
          "output_type": "stream",
          "name": "stdout",
          "text": [
            "Epoch 1/10\n",
            "281/281 [==============================] - 5s 13ms/step - loss: 2.2767 - accuracy: 0.3515 - val_loss: 1.9469 - val_accuracy: 0.4804\n",
            "Epoch 2/10\n",
            "281/281 [==============================] - 4s 14ms/step - loss: 1.8500 - accuracy: 0.4932 - val_loss: 1.8587 - val_accuracy: 0.5004\n",
            "Epoch 3/10\n",
            "281/281 [==============================] - 5s 19ms/step - loss: 1.7435 - accuracy: 0.5136 - val_loss: 1.8384 - val_accuracy: 0.5067\n",
            "Epoch 4/10\n",
            "281/281 [==============================] - 4s 13ms/step - loss: 1.6763 - accuracy: 0.5253 - val_loss: 1.8131 - val_accuracy: 0.5160\n",
            "Epoch 5/10\n",
            "281/281 [==============================] - 6s 20ms/step - loss: 1.5982 - accuracy: 0.5436 - val_loss: 1.7858 - val_accuracy: 0.5378\n",
            "Epoch 6/10\n",
            "281/281 [==============================] - 5s 18ms/step - loss: 1.5065 - accuracy: 0.5890 - val_loss: 1.7679 - val_accuracy: 0.5561\n",
            "Epoch 7/10\n",
            "281/281 [==============================] - 6s 20ms/step - loss: 1.4392 - accuracy: 0.6049 - val_loss: 1.7617 - val_accuracy: 0.5525\n",
            "Epoch 8/10\n",
            "281/281 [==============================] - 6s 23ms/step - loss: 1.3897 - accuracy: 0.6182 - val_loss: 1.7848 - val_accuracy: 0.5503\n",
            "Epoch 9/10\n",
            "281/281 [==============================] - 4s 14ms/step - loss: 1.3440 - accuracy: 0.6258 - val_loss: 1.8091 - val_accuracy: 0.5414\n",
            "Epoch 10/10\n",
            "281/281 [==============================] - 4s 13ms/step - loss: 1.3065 - accuracy: 0.6398 - val_loss: 1.8246 - val_accuracy: 0.5561\n",
            "71/71 [==============================] - 0s 3ms/step - loss: 1.8246 - accuracy: 0.5561\n",
            "Test score: 1.8246333599090576\n",
            "Test accuracy: 0.5560997128486633\n"
          ]
        }
      ]
    },
    {
      "cell_type": "code",
      "source": [
        "different_parameters(20000,30,5)"
      ],
      "metadata": {
        "colab": {
          "base_uri": "https://localhost:8080/"
        },
        "id": "z3F1aEZOFdlE",
        "outputId": "b6da7b5e-e6d5-41d3-e21e-c1a2325addf4"
      },
      "id": "z3F1aEZOFdlE",
      "execution_count": 85,
      "outputs": [
        {
          "output_type": "stream",
          "name": "stdout",
          "text": [
            "8982 train sequences\n",
            "2246 test sequences\n",
            "x_train shape: (8982, 30)\n",
            "x_test shape: (2246, 30)\n",
            "Model: \"sequential_27\"\n",
            "_________________________________________________________________\n",
            " Layer (type)                Output Shape              Param #   \n",
            "=================================================================\n",
            " embedding_27 (Embedding)    (None, None, 50)          1000000   \n",
            "                                                                 \n",
            " simple_rnn_27 (SimpleRNN)   (None, 5)                 280       \n",
            "                                                                 \n",
            " dense_27 (Dense)            (None, 46)                276       \n",
            "                                                                 \n",
            "=================================================================\n",
            "Total params: 1000556 (3.82 MB)\n",
            "Trainable params: 1000556 (3.82 MB)\n",
            "Non-trainable params: 0 (0.00 Byte)\n",
            "_________________________________________________________________\n"
          ]
        },
        {
          "output_type": "stream",
          "name": "stderr",
          "text": [
            "WARNING:absl:`lr` is deprecated in Keras optimizer, please use `learning_rate` or use the legacy optimizer, e.g.,tf.keras.optimizers.legacy.RMSprop.\n"
          ]
        },
        {
          "output_type": "stream",
          "name": "stdout",
          "text": [
            "Epoch 1/10\n",
            "281/281 [==============================] - 10s 32ms/step - loss: 2.3153 - accuracy: 0.4029 - val_loss: 1.9571 - val_accuracy: 0.4947\n",
            "Epoch 2/10\n",
            "281/281 [==============================] - 4s 15ms/step - loss: 1.8241 - accuracy: 0.4979 - val_loss: 1.8434 - val_accuracy: 0.5027\n",
            "Epoch 3/10\n",
            "281/281 [==============================] - 4s 14ms/step - loss: 1.7242 - accuracy: 0.5107 - val_loss: 1.8115 - val_accuracy: 0.5062\n",
            "Epoch 4/10\n",
            "281/281 [==============================] - 5s 19ms/step - loss: 1.6476 - accuracy: 0.5215 - val_loss: 1.8074 - val_accuracy: 0.5089\n",
            "Epoch 5/10\n",
            "281/281 [==============================] - 6s 20ms/step - loss: 1.5830 - accuracy: 0.5446 - val_loss: 1.8325 - val_accuracy: 0.5196\n",
            "Epoch 6/10\n",
            "281/281 [==============================] - 6s 20ms/step - loss: 1.5245 - accuracy: 0.5715 - val_loss: 1.7947 - val_accuracy: 0.5441\n",
            "Epoch 7/10\n",
            "281/281 [==============================] - 8s 30ms/step - loss: 1.4725 - accuracy: 0.5862 - val_loss: 1.7709 - val_accuracy: 0.5356\n",
            "Epoch 8/10\n",
            "281/281 [==============================] - 5s 19ms/step - loss: 1.4204 - accuracy: 0.5970 - val_loss: 1.7627 - val_accuracy: 0.5441\n",
            "Epoch 9/10\n",
            "281/281 [==============================] - 5s 17ms/step - loss: 1.3723 - accuracy: 0.6147 - val_loss: 1.7889 - val_accuracy: 0.5503\n",
            "Epoch 10/10\n",
            "281/281 [==============================] - 4s 15ms/step - loss: 1.3272 - accuracy: 0.6294 - val_loss: 1.8013 - val_accuracy: 0.5427\n",
            "71/71 [==============================] - 0s 4ms/step - loss: 1.8013 - accuracy: 0.5427\n",
            "Test score: 1.8013465404510498\n",
            "Test accuracy: 0.5427426695823669\n"
          ]
        }
      ]
    },
    {
      "cell_type": "code",
      "source": [
        "# Train the model\n",
        "history = model_rnn.fit(x_train, y_train,\n",
        "          batch_size=batch_size,\n",
        "          epochs=10,\n",
        "          validation_data=(x_test, y_test))\n"
      ],
      "metadata": {
        "colab": {
          "base_uri": "https://localhost:8080/"
        },
        "id": "A3EmwISjFnA1",
        "outputId": "55f14a86-7c26-4f1d-c4b3-6a4326e80828"
      },
      "id": "A3EmwISjFnA1",
      "execution_count": 86,
      "outputs": [
        {
          "output_type": "stream",
          "name": "stdout",
          "text": [
            "Epoch 1/10\n",
            "281/281 [==============================] - 11s 40ms/step - loss: 1.6000 - accuracy: 0.5607 - val_loss: 1.6845 - val_accuracy: 0.5628\n",
            "Epoch 2/10\n",
            "281/281 [==============================] - 8s 28ms/step - loss: 1.4860 - accuracy: 0.5882 - val_loss: 1.6978 - val_accuracy: 0.5748\n",
            "Epoch 3/10\n",
            "281/281 [==============================] - 8s 29ms/step - loss: 1.4039 - accuracy: 0.6157 - val_loss: 1.6657 - val_accuracy: 0.5846\n",
            "Epoch 4/10\n",
            "281/281 [==============================] - 11s 41ms/step - loss: 1.3367 - accuracy: 0.6367 - val_loss: 1.6364 - val_accuracy: 0.5962\n",
            "Epoch 5/10\n",
            "281/281 [==============================] - 8s 27ms/step - loss: 1.2863 - accuracy: 0.6533 - val_loss: 1.6368 - val_accuracy: 0.6015\n",
            "Epoch 6/10\n",
            "281/281 [==============================] - 8s 30ms/step - loss: 1.2425 - accuracy: 0.6680 - val_loss: 1.6618 - val_accuracy: 0.6024\n",
            "Epoch 7/10\n",
            "281/281 [==============================] - 9s 32ms/step - loss: 1.2028 - accuracy: 0.6814 - val_loss: 1.6795 - val_accuracy: 0.5948\n",
            "Epoch 8/10\n",
            "281/281 [==============================] - 9s 33ms/step - loss: 1.1659 - accuracy: 0.6912 - val_loss: 1.6905 - val_accuracy: 0.5757\n",
            "Epoch 9/10\n",
            "281/281 [==============================] - 9s 31ms/step - loss: 1.1335 - accuracy: 0.7010 - val_loss: 1.7618 - val_accuracy: 0.5993\n",
            "Epoch 10/10\n",
            "281/281 [==============================] - 9s 31ms/step - loss: 1.1019 - accuracy: 0.7084 - val_loss: 1.7897 - val_accuracy: 0.5957\n"
          ]
        }
      ]
    },
    {
      "cell_type": "code",
      "source": [
        "# Train the model\n",
        "history = model_rnn.fit(x_train, y_train,\n",
        "          batch_size=batch_size,\n",
        "          epochs=10,\n",
        "          validation_data=(x_test, y_test))\n"
      ],
      "metadata": {
        "colab": {
          "base_uri": "https://localhost:8080/"
        },
        "id": "d3oW1dNKFgAm",
        "outputId": "435ab7ac-bc9e-4b7f-c241-366b9a6b555f"
      },
      "id": "d3oW1dNKFgAm",
      "execution_count": 87,
      "outputs": [
        {
          "output_type": "stream",
          "name": "stdout",
          "text": [
            "Epoch 1/10\n",
            "281/281 [==============================] - 8s 27ms/step - loss: 1.0825 - accuracy: 0.7114 - val_loss: 1.7340 - val_accuracy: 0.5966\n",
            "Epoch 2/10\n",
            "281/281 [==============================] - 9s 32ms/step - loss: 1.0593 - accuracy: 0.7217 - val_loss: 1.8531 - val_accuracy: 0.5908\n",
            "Epoch 3/10\n",
            "281/281 [==============================] - 10s 34ms/step - loss: 1.0377 - accuracy: 0.7307 - val_loss: 1.8247 - val_accuracy: 0.5962\n",
            "Epoch 4/10\n",
            "281/281 [==============================] - 9s 32ms/step - loss: 1.0194 - accuracy: 0.7335 - val_loss: 1.8681 - val_accuracy: 0.5971\n",
            "Epoch 5/10\n",
            "281/281 [==============================] - 9s 31ms/step - loss: 0.9953 - accuracy: 0.7407 - val_loss: 1.8518 - val_accuracy: 0.5841\n",
            "Epoch 6/10\n",
            "281/281 [==============================] - 8s 29ms/step - loss: 0.9728 - accuracy: 0.7439 - val_loss: 1.9425 - val_accuracy: 0.5980\n",
            "Epoch 7/10\n",
            "281/281 [==============================] - 10s 35ms/step - loss: 0.9582 - accuracy: 0.7488 - val_loss: 1.9571 - val_accuracy: 0.5886\n",
            "Epoch 8/10\n",
            "281/281 [==============================] - 9s 32ms/step - loss: 0.9448 - accuracy: 0.7524 - val_loss: 2.0147 - val_accuracy: 0.5801\n",
            "Epoch 9/10\n",
            "281/281 [==============================] - 8s 27ms/step - loss: 0.9308 - accuracy: 0.7568 - val_loss: 1.9243 - val_accuracy: 0.5748\n",
            "Epoch 10/10\n",
            "281/281 [==============================] - 9s 31ms/step - loss: 0.9080 - accuracy: 0.7622 - val_loss: 2.1178 - val_accuracy: 0.5939\n"
          ]
        }
      ]
    },
    {
      "cell_type": "code",
      "source": [
        "# Evaluate the model\n",
        "score, acc = model_rnn.evaluate(x_test, y_test,\n",
        "                            batch_size=batch_size)\n",
        "print('Test score:', score)\n",
        "print('Test accuracy:', acc)"
      ],
      "metadata": {
        "colab": {
          "base_uri": "https://localhost:8080/"
        },
        "id": "koXsgnhgFodL",
        "outputId": "e1d03c9f-fdc9-4912-b1c9-427f20d83644"
      },
      "id": "koXsgnhgFodL",
      "execution_count": 88,
      "outputs": [
        {
          "output_type": "stream",
          "name": "stdout",
          "text": [
            "71/71 [==============================] - 1s 10ms/step - loss: 2.1178 - accuracy: 0.5939\n",
            "Test score: 2.117785692214966\n",
            "Test accuracy: 0.593944787979126\n"
          ]
        }
      ]
    },
    {
      "cell_type": "markdown",
      "source": [
        "*This is my own data using the parameters from supplementary*"
      ],
      "metadata": {
        "id": "YsfppRZL4hmS"
      },
      "id": "YsfppRZL4hmS"
    },
    {
      "cell_type": "code",
      "source": [
        "def different_parameters(max_features, maxlen, rnn_hidden_dim):\n",
        "\n",
        "  max_features = max_features       # changed from 20000\n",
        "  maxlen = maxlen                   # changed from 30\n",
        "  batch_size = 32\n",
        "\n",
        "  (x_train, y_train), (x_test, y_test) = reuters.load_data(num_words=max_features)\n",
        "\n",
        "  print(len(x_train), 'train sequences')\n",
        "  print(len(x_test), 'test sequences')\n",
        "\n",
        "  # Preprocess the data\n",
        "  x_train = pad_sequences(x_train, maxlen=maxlen)\n",
        "  x_test = pad_sequences(x_test, maxlen=maxlen)\n",
        "  print('x_train shape:', x_train.shape)\n",
        "  print('x_test shape:', x_test.shape)\n",
        "\n",
        "  # One-hot encode the labels\n",
        "  num_classes = np.max(y_train) + 1\n",
        "  y_train = to_categorical(y_train, num_classes=num_classes)\n",
        "  y_test = to_categorical(y_test, num_classes=num_classes)\n",
        "\n",
        "  # Build the model\n",
        "  rnn_hidden_dim = rnn_hidden_dim      # changed from 5\n",
        "  word_embedding_dim = 50\n",
        "  model_rnn = Sequential()\n",
        "  model_rnn.add(Embedding(max_features, word_embedding_dim))\n",
        "  model_rnn.add(SimpleRNN(rnn_hidden_dim,\n",
        "                      kernel_initializer=initializers.RandomNormal(stddev=0.001),\n",
        "                      recurrent_initializer=initializers.Identity(gain=1.0),\n",
        "                      activation='relu',\n",
        "                      input_shape=x_train.shape[1:]))\n",
        "\n",
        "  model_rnn.add(Dense(num_classes, activation='softmax'))\n",
        "\n",
        "  model_rnn.summary()\n",
        "\n",
        "  rmsprop = keras.optimizers.RMSprop(lr = .0001)\n",
        "\n",
        "  model_rnn.compile(loss='categorical_crossentropy',\n",
        "                optimizer=rmsprop,\n",
        "                metrics=['accuracy'])\n",
        "\n",
        "  # Train the model\n",
        "  history = model_rnn.fit(x_train, y_train,\n",
        "            batch_size=batch_size,\n",
        "            epochs=10,\n",
        "            validation_data=(x_test, y_test))\n",
        "\n",
        "  # Evaluate the model\n",
        "  score, acc = model_rnn.evaluate(x_test, y_test,\n",
        "                              batch_size=batch_size)\n",
        "  print('Test score:', score)\n",
        "  print('Test accuracy:', acc)"
      ],
      "metadata": {
        "id": "qV1kpuRx8kG0"
      },
      "id": "qV1kpuRx8kG0",
      "execution_count": 77,
      "outputs": []
    },
    {
      "cell_type": "code",
      "source": [
        "# max_features=20000, maxlen=30, rnn_hidden_dim=5\n",
        "# Prepare the data to use sequences of length 80 rather than length 30. Did it improve the performance?\n",
        "different_parameters(20000,80,5)\n",
        "different_parameters(20000,20,5)"
      ],
      "metadata": {
        "colab": {
          "base_uri": "https://localhost:8080/"
        },
        "id": "X4K3pbP4_rEk",
        "outputId": "33d00001-1a3b-4761-9f2f-2c9b60052747"
      },
      "id": "X4K3pbP4_rEk",
      "execution_count": 83,
      "outputs": [
        {
          "output_type": "stream",
          "name": "stdout",
          "text": [
            "8982 train sequences\n",
            "2246 test sequences\n",
            "x_train shape: (8982, 80)\n",
            "x_test shape: (2246, 80)\n",
            "Model: \"sequential_24\"\n",
            "_________________________________________________________________\n",
            " Layer (type)                Output Shape              Param #   \n",
            "=================================================================\n",
            " embedding_24 (Embedding)    (None, None, 50)          1000000   \n",
            "                                                                 \n",
            " simple_rnn_24 (SimpleRNN)   (None, 5)                 280       \n",
            "                                                                 \n",
            " dense_24 (Dense)            (None, 46)                276       \n",
            "                                                                 \n",
            "=================================================================\n",
            "Total params: 1000556 (3.82 MB)\n",
            "Trainable params: 1000556 (3.82 MB)\n",
            "Non-trainable params: 0 (0.00 Byte)\n",
            "_________________________________________________________________\n"
          ]
        },
        {
          "output_type": "stream",
          "name": "stderr",
          "text": [
            "WARNING:absl:`lr` is deprecated in Keras optimizer, please use `learning_rate` or use the legacy optimizer, e.g.,tf.keras.optimizers.legacy.RMSprop.\n"
          ]
        },
        {
          "output_type": "stream",
          "name": "stdout",
          "text": [
            "Epoch 1/10\n",
            "281/281 [==============================] - 10s 32ms/step - loss: 2.4584 - accuracy: 0.2997 - val_loss: 2.1069 - val_accuracy: 0.3847\n",
            "Epoch 2/10\n",
            "281/281 [==============================] - 7s 24ms/step - loss: 1.8820 - accuracy: 0.4659 - val_loss: 1.8153 - val_accuracy: 0.5183\n",
            "Epoch 3/10\n",
            "281/281 [==============================] - 9s 31ms/step - loss: 1.6718 - accuracy: 0.5450 - val_loss: 1.7437 - val_accuracy: 0.5307\n",
            "Epoch 4/10\n",
            "281/281 [==============================] - 8s 28ms/step - loss: 1.5659 - accuracy: 0.5725 - val_loss: 1.6651 - val_accuracy: 0.5610\n",
            "Epoch 5/10\n",
            "281/281 [==============================] - 7s 25ms/step - loss: 1.4905 - accuracy: 0.5898 - val_loss: 1.6381 - val_accuracy: 0.5659\n",
            "Epoch 6/10\n",
            "281/281 [==============================] - 8s 30ms/step - loss: 1.4335 - accuracy: 0.5975 - val_loss: 1.6799 - val_accuracy: 0.5623\n",
            "Epoch 7/10\n",
            "281/281 [==============================] - 8s 28ms/step - loss: 1.3892 - accuracy: 0.6069 - val_loss: 1.6507 - val_accuracy: 0.5788\n",
            "Epoch 8/10\n",
            "281/281 [==============================] - 10s 36ms/step - loss: 1.3499 - accuracy: 0.6131 - val_loss: 1.7185 - val_accuracy: 0.5761\n",
            "Epoch 9/10\n",
            "281/281 [==============================] - 7s 25ms/step - loss: 1.3136 - accuracy: 0.6261 - val_loss: 1.6676 - val_accuracy: 0.5895\n",
            "Epoch 10/10\n",
            "281/281 [==============================] - 8s 27ms/step - loss: 1.2831 - accuracy: 0.6393 - val_loss: 1.7607 - val_accuracy: 0.5686\n",
            "71/71 [==============================] - 0s 6ms/step - loss: 1.7607 - accuracy: 0.5686\n",
            "Test score: 1.7606912851333618\n",
            "Test accuracy: 0.5685663223266602\n",
            "8982 train sequences\n",
            "2246 test sequences\n",
            "x_train shape: (8982, 20)\n",
            "x_test shape: (2246, 20)\n",
            "Model: \"sequential_25\"\n",
            "_________________________________________________________________\n",
            " Layer (type)                Output Shape              Param #   \n",
            "=================================================================\n",
            " embedding_25 (Embedding)    (None, None, 50)          1000000   \n",
            "                                                                 \n",
            " simple_rnn_25 (SimpleRNN)   (None, 5)                 280       \n",
            "                                                                 \n",
            " dense_25 (Dense)            (None, 46)                276       \n",
            "                                                                 \n",
            "=================================================================\n",
            "Total params: 1000556 (3.82 MB)\n",
            "Trainable params: 1000556 (3.82 MB)\n",
            "Non-trainable params: 0 (0.00 Byte)\n",
            "_________________________________________________________________\n"
          ]
        },
        {
          "output_type": "stream",
          "name": "stderr",
          "text": [
            "WARNING:absl:`lr` is deprecated in Keras optimizer, please use `learning_rate` or use the legacy optimizer, e.g.,tf.keras.optimizers.legacy.RMSprop.\n"
          ]
        },
        {
          "output_type": "stream",
          "name": "stdout",
          "text": [
            "Epoch 1/10\n",
            "281/281 [==============================] - 7s 21ms/step - loss: 2.8047 - accuracy: 0.2435 - val_loss: 2.1724 - val_accuracy: 0.3624\n",
            "Epoch 2/10\n",
            "281/281 [==============================] - 4s 13ms/step - loss: 2.0707 - accuracy: 0.3584 - val_loss: 2.0493 - val_accuracy: 0.3896\n",
            "Epoch 3/10\n",
            "281/281 [==============================] - 3s 12ms/step - loss: 1.9872 - accuracy: 0.3828 - val_loss: 2.0244 - val_accuracy: 0.4248\n",
            "Epoch 4/10\n",
            "281/281 [==============================] - 4s 13ms/step - loss: 1.9477 - accuracy: 0.4100 - val_loss: 2.0106 - val_accuracy: 0.4452\n",
            "Epoch 5/10\n",
            "281/281 [==============================] - 4s 14ms/step - loss: 1.9188 - accuracy: 0.4286 - val_loss: 2.0034 - val_accuracy: 0.4403\n",
            "Epoch 6/10\n",
            "281/281 [==============================] - 3s 11ms/step - loss: 1.8975 - accuracy: 0.4383 - val_loss: 2.0041 - val_accuracy: 0.4590\n",
            "Epoch 7/10\n",
            "281/281 [==============================] - 3s 12ms/step - loss: 1.8785 - accuracy: 0.4498 - val_loss: 2.0042 - val_accuracy: 0.4568\n",
            "Epoch 8/10\n",
            "281/281 [==============================] - 3s 12ms/step - loss: 1.8638 - accuracy: 0.4535 - val_loss: 2.0185 - val_accuracy: 0.4501\n",
            "Epoch 9/10\n",
            "281/281 [==============================] - 4s 15ms/step - loss: 1.8501 - accuracy: 0.4599 - val_loss: 2.0052 - val_accuracy: 0.4644\n",
            "Epoch 10/10\n",
            "281/281 [==============================] - 5s 19ms/step - loss: 1.8389 - accuracy: 0.4644 - val_loss: 2.0122 - val_accuracy: 0.4630\n",
            "71/71 [==============================] - 1s 9ms/step - loss: 2.0122 - accuracy: 0.4630\n",
            "Test score: 2.012214422225952\n",
            "Test accuracy: 0.4630454182624817\n"
          ]
        }
      ]
    },
    {
      "cell_type": "code",
      "source": [
        "# max_features=20000, maxlen=30, rnn_hidden_dim=5\n",
        "# Try different values of the \"max_features\". Can you improve the performance?\n",
        "different_parameters(15000,30,5)\n",
        "different_parameters(25000,30,5)"
      ],
      "metadata": {
        "colab": {
          "base_uri": "https://localhost:8080/"
        },
        "id": "fGd3HQNO_7zi",
        "outputId": "8ede9a0f-89e8-4046-f6f9-8c33cbc3bfff"
      },
      "id": "fGd3HQNO_7zi",
      "execution_count": 81,
      "outputs": [
        {
          "output_type": "stream",
          "name": "stdout",
          "text": [
            "8982 train sequences\n",
            "2246 test sequences\n",
            "x_train shape: (8982, 30)\n",
            "x_test shape: (2246, 30)\n",
            "Model: \"sequential_20\"\n",
            "_________________________________________________________________\n",
            " Layer (type)                Output Shape              Param #   \n",
            "=================================================================\n",
            " embedding_20 (Embedding)    (None, None, 50)          750000    \n",
            "                                                                 \n",
            " simple_rnn_20 (SimpleRNN)   (None, 5)                 280       \n",
            "                                                                 \n",
            " dense_20 (Dense)            (None, 46)                276       \n",
            "                                                                 \n",
            "=================================================================\n",
            "Total params: 750556 (2.86 MB)\n",
            "Trainable params: 750556 (2.86 MB)\n",
            "Non-trainable params: 0 (0.00 Byte)\n",
            "_________________________________________________________________\n"
          ]
        },
        {
          "output_type": "stream",
          "name": "stderr",
          "text": [
            "WARNING:absl:`lr` is deprecated in Keras optimizer, please use `learning_rate` or use the legacy optimizer, e.g.,tf.keras.optimizers.legacy.RMSprop.\n"
          ]
        },
        {
          "output_type": "stream",
          "name": "stdout",
          "text": [
            "Epoch 1/10\n",
            "281/281 [==============================] - 5s 15ms/step - loss: 2.3652 - accuracy: 0.3624 - val_loss: 1.9258 - val_accuracy: 0.4969\n",
            "Epoch 2/10\n",
            "281/281 [==============================] - 4s 16ms/step - loss: 1.8343 - accuracy: 0.5011 - val_loss: 1.8421 - val_accuracy: 0.4991\n",
            "Epoch 3/10\n",
            "281/281 [==============================] - 4s 13ms/step - loss: 1.7317 - accuracy: 0.5125 - val_loss: 1.8081 - val_accuracy: 0.5107\n",
            "Epoch 4/10\n",
            "281/281 [==============================] - 5s 18ms/step - loss: 1.6549 - accuracy: 0.5265 - val_loss: 1.8033 - val_accuracy: 0.5347\n",
            "Epoch 5/10\n",
            "281/281 [==============================] - 5s 18ms/step - loss: 1.5830 - accuracy: 0.5608 - val_loss: 1.8056 - val_accuracy: 0.5329\n",
            "Epoch 6/10\n",
            "281/281 [==============================] - 4s 13ms/step - loss: 1.5155 - accuracy: 0.5864 - val_loss: 1.7925 - val_accuracy: 0.5490\n",
            "Epoch 7/10\n",
            "281/281 [==============================] - 4s 13ms/step - loss: 1.4463 - accuracy: 0.6045 - val_loss: 1.7603 - val_accuracy: 0.5610\n",
            "Epoch 8/10\n",
            "281/281 [==============================] - 5s 17ms/step - loss: 1.3868 - accuracy: 0.6263 - val_loss: 1.7424 - val_accuracy: 0.5628\n",
            "Epoch 9/10\n",
            "281/281 [==============================] - 4s 13ms/step - loss: 1.3264 - accuracy: 0.6423 - val_loss: 1.7703 - val_accuracy: 0.5717\n",
            "Epoch 10/10\n",
            "281/281 [==============================] - 4s 13ms/step - loss: 1.2783 - accuracy: 0.6560 - val_loss: 1.7679 - val_accuracy: 0.5784\n",
            "71/71 [==============================] - 0s 3ms/step - loss: 1.7679 - accuracy: 0.5784\n",
            "Test score: 1.7679154872894287\n",
            "Test accuracy: 0.5783615112304688\n",
            "8982 train sequences\n",
            "2246 test sequences\n",
            "x_train shape: (8982, 30)\n",
            "x_test shape: (2246, 30)\n",
            "Model: \"sequential_21\"\n",
            "_________________________________________________________________\n",
            " Layer (type)                Output Shape              Param #   \n",
            "=================================================================\n",
            " embedding_21 (Embedding)    (None, None, 50)          1250000   \n",
            "                                                                 \n",
            " simple_rnn_21 (SimpleRNN)   (None, 5)                 280       \n",
            "                                                                 \n",
            " dense_21 (Dense)            (None, 46)                276       \n",
            "                                                                 \n",
            "=================================================================\n",
            "Total params: 1250556 (4.77 MB)\n",
            "Trainable params: 1250556 (4.77 MB)\n",
            "Non-trainable params: 0 (0.00 Byte)\n",
            "_________________________________________________________________\n"
          ]
        },
        {
          "output_type": "stream",
          "name": "stderr",
          "text": [
            "WARNING:absl:`lr` is deprecated in Keras optimizer, please use `learning_rate` or use the legacy optimizer, e.g.,tf.keras.optimizers.legacy.RMSprop.\n"
          ]
        },
        {
          "output_type": "stream",
          "name": "stdout",
          "text": [
            "Epoch 1/10\n",
            "281/281 [==============================] - 8s 24ms/step - loss: 2.4914 - accuracy: 0.2878 - val_loss: 2.0824 - val_accuracy: 0.3624\n",
            "Epoch 2/10\n",
            "281/281 [==============================] - 4s 15ms/step - loss: 2.0142 - accuracy: 0.3533 - val_loss: 1.9968 - val_accuracy: 0.3878\n",
            "Epoch 3/10\n",
            "281/281 [==============================] - 4s 14ms/step - loss: 1.9310 - accuracy: 0.3860 - val_loss: 1.9815 - val_accuracy: 0.4118\n",
            "Epoch 4/10\n",
            "281/281 [==============================] - 6s 21ms/step - loss: 1.8588 - accuracy: 0.4568 - val_loss: 1.9210 - val_accuracy: 0.4840\n",
            "Epoch 5/10\n",
            "281/281 [==============================] - 5s 17ms/step - loss: 1.7457 - accuracy: 0.5012 - val_loss: 1.8441 - val_accuracy: 0.4987\n",
            "Epoch 6/10\n",
            "281/281 [==============================] - 4s 14ms/step - loss: 1.6392 - accuracy: 0.5416 - val_loss: 1.8089 - val_accuracy: 0.5276\n",
            "Epoch 7/10\n",
            "281/281 [==============================] - 5s 18ms/step - loss: 1.5472 - accuracy: 0.5730 - val_loss: 1.7827 - val_accuracy: 0.5356\n",
            "Epoch 8/10\n",
            "281/281 [==============================] - 4s 14ms/step - loss: 1.4827 - accuracy: 0.5847 - val_loss: 1.8423 - val_accuracy: 0.5325\n",
            "Epoch 9/10\n",
            "281/281 [==============================] - 5s 19ms/step - loss: 1.4294 - accuracy: 0.6010 - val_loss: 1.7984 - val_accuracy: 0.5352\n",
            "Epoch 10/10\n",
            "281/281 [==============================] - 5s 20ms/step - loss: 1.3732 - accuracy: 0.6182 - val_loss: 1.8092 - val_accuracy: 0.5463\n",
            "71/71 [==============================] - 0s 4ms/step - loss: 1.8092 - accuracy: 0.5463\n",
            "Test score: 1.8092190027236938\n",
            "Test accuracy: 0.5463045239448547\n"
          ]
        }
      ]
    },
    {
      "cell_type": "code",
      "source": [
        "# max_features=20000, maxlen=30, rnn_hidden_dim=5\n",
        "# Try smaller and larger sizes of the RNN hidden dimension. How does it affect the model performance? How does it affect the run time?\n",
        "different_parameters(20000,30,3)\n",
        "different_parameters(20000,30,7)"
      ],
      "metadata": {
        "colab": {
          "base_uri": "https://localhost:8080/"
        },
        "id": "oL9baAE__8Tb",
        "outputId": "6d5068e3-9347-4f2d-dc86-7082cd155e17"
      },
      "id": "oL9baAE__8Tb",
      "execution_count": 82,
      "outputs": [
        {
          "output_type": "stream",
          "name": "stdout",
          "text": [
            "8982 train sequences\n",
            "2246 test sequences\n",
            "x_train shape: (8982, 30)\n",
            "x_test shape: (2246, 30)\n",
            "Model: \"sequential_22\"\n",
            "_________________________________________________________________\n",
            " Layer (type)                Output Shape              Param #   \n",
            "=================================================================\n",
            " embedding_22 (Embedding)    (None, None, 50)          1000000   \n",
            "                                                                 \n",
            " simple_rnn_22 (SimpleRNN)   (None, 3)                 162       \n",
            "                                                                 \n",
            " dense_22 (Dense)            (None, 46)                184       \n",
            "                                                                 \n",
            "=================================================================\n",
            "Total params: 1000346 (3.82 MB)\n",
            "Trainable params: 1000346 (3.82 MB)\n",
            "Non-trainable params: 0 (0.00 Byte)\n",
            "_________________________________________________________________\n"
          ]
        },
        {
          "output_type": "stream",
          "name": "stderr",
          "text": [
            "WARNING:absl:`lr` is deprecated in Keras optimizer, please use `learning_rate` or use the legacy optimizer, e.g.,tf.keras.optimizers.legacy.RMSprop.\n"
          ]
        },
        {
          "output_type": "stream",
          "name": "stdout",
          "text": [
            "Epoch 1/10\n",
            "281/281 [==============================] - 6s 17ms/step - loss: 2.3660 - accuracy: 0.3821 - val_loss: 1.9530 - val_accuracy: 0.4835\n",
            "Epoch 2/10\n",
            "281/281 [==============================] - 4s 13ms/step - loss: 1.8443 - accuracy: 0.4949 - val_loss: 1.8407 - val_accuracy: 0.5031\n",
            "Epoch 3/10\n",
            "281/281 [==============================] - 4s 13ms/step - loss: 1.7235 - accuracy: 0.5156 - val_loss: 1.8051 - val_accuracy: 0.5102\n",
            "Epoch 4/10\n",
            "281/281 [==============================] - 5s 18ms/step - loss: 1.6372 - accuracy: 0.5287 - val_loss: 1.8362 - val_accuracy: 0.5134\n",
            "Epoch 5/10\n",
            "281/281 [==============================] - 4s 16ms/step - loss: 1.5465 - accuracy: 0.5615 - val_loss: 1.7619 - val_accuracy: 0.5503\n",
            "Epoch 6/10\n",
            "281/281 [==============================] - 4s 16ms/step - loss: 1.4559 - accuracy: 0.6079 - val_loss: 1.7470 - val_accuracy: 0.5668\n",
            "Epoch 7/10\n",
            "281/281 [==============================] - 5s 17ms/step - loss: 1.3808 - accuracy: 0.6336 - val_loss: 1.7351 - val_accuracy: 0.5739\n",
            "Epoch 8/10\n",
            "281/281 [==============================] - 5s 16ms/step - loss: 1.3194 - accuracy: 0.6605 - val_loss: 1.7414 - val_accuracy: 0.5717\n",
            "Epoch 9/10\n",
            "281/281 [==============================] - 5s 17ms/step - loss: 1.2641 - accuracy: 0.6772 - val_loss: 1.7835 - val_accuracy: 0.5735\n",
            "Epoch 10/10\n",
            "281/281 [==============================] - 6s 22ms/step - loss: 1.2199 - accuracy: 0.6880 - val_loss: 1.7754 - val_accuracy: 0.5739\n",
            "71/71 [==============================] - 0s 5ms/step - loss: 1.7754 - accuracy: 0.5739\n",
            "Test score: 1.7754156589508057\n",
            "Test accuracy: 0.5739091634750366\n",
            "8982 train sequences\n",
            "2246 test sequences\n",
            "x_train shape: (8982, 30)\n",
            "x_test shape: (2246, 30)\n",
            "Model: \"sequential_23\"\n",
            "_________________________________________________________________\n",
            " Layer (type)                Output Shape              Param #   \n",
            "=================================================================\n",
            " embedding_23 (Embedding)    (None, None, 50)          1000000   \n",
            "                                                                 \n",
            " simple_rnn_23 (SimpleRNN)   (None, 7)                 406       \n",
            "                                                                 \n",
            " dense_23 (Dense)            (None, 46)                368       \n",
            "                                                                 \n",
            "=================================================================\n",
            "Total params: 1000774 (3.82 MB)\n",
            "Trainable params: 1000774 (3.82 MB)\n",
            "Non-trainable params: 0 (0.00 Byte)\n",
            "_________________________________________________________________\n"
          ]
        },
        {
          "output_type": "stream",
          "name": "stderr",
          "text": [
            "WARNING:absl:`lr` is deprecated in Keras optimizer, please use `learning_rate` or use the legacy optimizer, e.g.,tf.keras.optimizers.legacy.RMSprop.\n"
          ]
        },
        {
          "output_type": "stream",
          "name": "stdout",
          "text": [
            "Epoch 1/10\n",
            "281/281 [==============================] - 7s 20ms/step - loss: 2.3680 - accuracy: 0.3218 - val_loss: 2.0070 - val_accuracy: 0.4711\n",
            "Epoch 2/10\n",
            "281/281 [==============================] - 5s 18ms/step - loss: 1.8136 - accuracy: 0.5085 - val_loss: 1.7917 - val_accuracy: 0.5423\n",
            "Epoch 3/10\n",
            "281/281 [==============================] - 4s 14ms/step - loss: 1.6115 - accuracy: 0.5740 - val_loss: 1.7001 - val_accuracy: 0.5641\n",
            "Epoch 4/10\n",
            "281/281 [==============================] - 4s 14ms/step - loss: 1.4698 - accuracy: 0.6029 - val_loss: 1.6526 - val_accuracy: 0.5788\n",
            "Epoch 5/10\n",
            "281/281 [==============================] - 4s 15ms/step - loss: 1.3479 - accuracy: 0.6377 - val_loss: 1.6470 - val_accuracy: 0.5917\n",
            "Epoch 6/10\n",
            "281/281 [==============================] - 5s 16ms/step - loss: 1.2499 - accuracy: 0.6641 - val_loss: 1.6404 - val_accuracy: 0.5815\n",
            "Epoch 7/10\n",
            "281/281 [==============================] - 4s 13ms/step - loss: 1.1638 - accuracy: 0.6941 - val_loss: 1.6413 - val_accuracy: 0.5864\n",
            "Epoch 8/10\n",
            "281/281 [==============================] - 4s 15ms/step - loss: 1.0886 - accuracy: 0.7174 - val_loss: 1.6794 - val_accuracy: 0.5957\n",
            "Epoch 9/10\n",
            "281/281 [==============================] - 6s 23ms/step - loss: 1.0226 - accuracy: 0.7375 - val_loss: 1.7245 - val_accuracy: 0.5931\n",
            "Epoch 10/10\n",
            "281/281 [==============================] - 4s 14ms/step - loss: 0.9679 - accuracy: 0.7457 - val_loss: 1.7518 - val_accuracy: 0.5975\n",
            "71/71 [==============================] - 0s 3ms/step - loss: 1.7518 - accuracy: 0.5975\n",
            "Test score: 1.7517515420913696\n",
            "Test accuracy: 0.5975067019462585\n"
          ]
        }
      ]
    },
    {
      "cell_type": "markdown",
      "source": [
        "![image.png](data:image/png;base64,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)"
      ],
      "metadata": {
        "id": "1EI_xkBwDrV9"
      },
      "id": "1EI_xkBwDrV9"
    },
    {
      "cell_type": "markdown",
      "source": [
        "**Prepare the data to use sequences of length 80 rather than length 30. Did it improve the performance?**\n",
        "\n",
        "Yes it did improve it.\n",
        "\n",
        "**Try different values of the \"max_features\". Can you improve the performance?**\n",
        "In my specific dataset and layers lowering the value makes the accuracy better and vice versa.\n",
        "\n",
        "**Try smaller and larger sizes of the RNN hidden dimension. How does it affect the model performance? How does it affect the run time?**\n",
        "\n",
        "The smaller hidden dimension result in lower accuracy while the higher result in higher accuracy. Their execution time is almost the same. But in more complex dataset it might result is different conclusion."
      ],
      "metadata": {
        "id": "78VgxnwlDr2j"
      },
      "id": "78VgxnwlDr2j"
    },
    {
      "cell_type": "markdown",
      "id": "signal-federal",
      "metadata": {
        "id": "signal-federal"
      },
      "source": [
        "# Conclusion\n"
      ]
    },
    {
      "cell_type": "markdown",
      "source": [
        "RNN serves a very different purpose than the CNN we have used before RNN uses long term dependencies hence it is suitable for tasks like NLP. This type of model is good for complex nonlinear relationships and long-term dependencies. Unlike ARIMA an SARIMA that uses linear relationship and also not a deep learning mdoel"
      ],
      "metadata": {
        "id": "nwfp1S2kq8OV"
      },
      "id": "nwfp1S2kq8OV"
    },
    {
      "cell_type": "markdown",
      "id": "interpreted-stadium",
      "metadata": {
        "id": "interpreted-stadium"
      },
      "source": [
        "# Google Collab Link:"
      ]
    },
    {
      "cell_type": "markdown",
      "source": [
        "https://colab.research.google.com/drive/1prggt3nI_DTWdTc-BBPP9SbMHFeSUg7b?usp=sharing"
      ],
      "metadata": {
        "id": "n0I9_ED5rEMF"
      },
      "id": "n0I9_ED5rEMF"
    }
  ],
  "metadata": {
    "kernelspec": {
      "display_name": "Python 3",
      "language": "python",
      "name": "python3"
    },
    "language_info": {
      "codemirror_mode": {
        "name": "ipython",
        "version": 3
      },
      "file_extension": ".py",
      "mimetype": "text/x-python",
      "name": "python",
      "nbconvert_exporter": "python",
      "pygments_lexer": "ipython3",
      "version": "3.7.10"
    },
    "colab": {
      "provenance": []
    }
  },
  "nbformat": 4,
  "nbformat_minor": 5
}