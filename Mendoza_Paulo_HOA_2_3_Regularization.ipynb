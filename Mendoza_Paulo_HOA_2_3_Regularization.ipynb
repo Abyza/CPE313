{
  "cells": [
    {
      "cell_type": "markdown",
      "id": "frozen-passport",
      "metadata": {
        "id": "frozen-passport"
      },
      "source": [
        "# Hands-on Activity 2.3 Regularization"
      ]
    },
    {
      "cell_type": "markdown",
      "source": [
        "Technological Institute of the Philippines | Quezon City - Computer Engineering\n",
        "--- | ---\n",
        "Course Code: | CPE 313\n",
        "Code Title: | Advanced Machine Learning and Deep Learning\n",
        "2nd Semester | AY 2023-2024\n",
        "<hr> | <hr>\n",
        "<u>**ACTIVITY NO.** | **Hands-on Activity 2.3 Regularization**\n",
        "**Name** | Mendoza, Paulo\n",
        "<hr> | <hr>\n",
        "**Section** | CPE32S8\n",
        "**Date Performed**: | February 15, 2023\n",
        "**Date Submitted**: | February 15, 2023\n",
        "**Instructor**: | Engr. Roman M. Richard\n",
        "\n",
        "<hr>"
      ],
      "metadata": {
        "id": "E_Rh7zxiXirK"
      },
      "id": "E_Rh7zxiXirK"
    },
    {
      "cell_type": "markdown",
      "id": "downtown-relay",
      "metadata": {
        "id": "downtown-relay"
      },
      "source": [
        "#### Objective(s):\n",
        "\n",
        "This activity aims to demonstrate how to apply  regularization in neural networks"
      ]
    },
    {
      "cell_type": "markdown",
      "id": "weird-journal",
      "metadata": {
        "id": "weird-journal"
      },
      "source": [
        "#### Intended Learning Outcomes (ILOs):\n",
        "* Demonstrate how to build and train neural networks with regularization\n",
        "* Demonstrate how to visualize the model with regularization\n",
        "* Evaluate the result of model with regularization\n"
      ]
    },
    {
      "cell_type": "markdown",
      "id": "returning-harvard",
      "metadata": {
        "id": "returning-harvard"
      },
      "source": [
        "#### Resources:\n",
        "* Jupyter Notebook\n",
        "* MNIST\n"
      ]
    },
    {
      "cell_type": "markdown",
      "id": "virgin-webcam",
      "metadata": {
        "id": "virgin-webcam"
      },
      "source": [
        "#### Procedures\n",
        "Load the necessary libraries"
      ]
    },
    {
      "cell_type": "code",
      "execution_count": null,
      "id": "changing-emergency",
      "metadata": {
        "id": "changing-emergency"
      },
      "outputs": [],
      "source": [
        "from __future__ import print_function\n",
        "\n",
        "import keras\n",
        "from keras.datasets import mnist\n",
        "from keras.models import Sequential\n",
        "from keras.layers import Dense, Dropout\n",
        "from keras.optimizers import RMSprop\n",
        "\n",
        "import numpy as np\n",
        "import matplotlib.pyplot as plt\n",
        "%matplotlib inline"
      ]
    },
    {
      "cell_type": "markdown",
      "id": "central-drama",
      "metadata": {
        "id": "central-drama"
      },
      "source": [
        "Load the data, shuffled and split between train and test sets"
      ]
    },
    {
      "cell_type": "code",
      "execution_count": null,
      "id": "egyptian-driving",
      "metadata": {
        "id": "egyptian-driving"
      },
      "outputs": [],
      "source": [
        "(x_train, y_train), (x_test, y_test) = mnist.load_data()"
      ]
    },
    {
      "cell_type": "markdown",
      "id": "creative-cricket",
      "metadata": {
        "id": "creative-cricket"
      },
      "source": [
        "Get the size of the sample train data"
      ]
    },
    {
      "cell_type": "code",
      "execution_count": null,
      "id": "instrumental-funds",
      "metadata": {
        "id": "instrumental-funds",
        "colab": {
          "base_uri": "https://localhost:8080/"
        },
        "outputId": "5c749074-a4af-4170-ee68-3c9deb3386a2"
      },
      "outputs": [
        {
          "output_type": "execute_result",
          "data": {
            "text/plain": [
              "(28, 28)"
            ]
          },
          "metadata": {},
          "execution_count": 22
        }
      ],
      "source": [
        "x_train[0].shape"
      ]
    },
    {
      "cell_type": "markdown",
      "id": "atmospheric-carol",
      "metadata": {
        "id": "atmospheric-carol"
      },
      "source": [
        "Check the sample train data"
      ]
    },
    {
      "cell_type": "code",
      "execution_count": null,
      "id": "mental-johnston",
      "metadata": {
        "id": "mental-johnston",
        "colab": {
          "base_uri": "https://localhost:8080/",
          "height": 68
        },
        "outputId": "6cfb5e66-97a5-4a6d-a6bf-a1a57193c698"
      },
      "outputs": [
        {
          "output_type": "execute_result",
          "data": {
            "text/plain": [
              "array([[  0,   0,   0,   0,   0,   0,   0,   0,   0,   0,   0,   0,   0,\n",
              "          0,   0,   0,   0,   0,   0,   0,   0,   0,   0,   0,   0,   0,\n",
              "          0,   0],\n",
              "       [  0,   0,   0,   0,   0,   0,   0,   0,   0,   0,   0,   0,   0,\n",
              "          0,   0,   0,   0,   0,   0,   0,   0,   0,   0,   0,   0,   0,\n",
              "          0,   0],\n",
              "       [  0,   0,   0,   0,   0,   0,   0,   0,   0,   0,   0,   0,   0,\n",
              "          0,   0,   0,   0,   0,   0,   0,   0,   0,   0,   0,   0,   0,\n",
              "          0,   0],\n",
              "       [  0,   0,   0,   0,   0,   0,   0,   0,   0,   0,   0,   0,   0,\n",
              "          0,   0,   0,   0,   0,   0,   0,   0,   0,   0,   0,   0,   0,\n",
              "          0,   0],\n",
              "       [  0,   0,   0,   0,   0,   0,   0,   0,   0,   0,   0,   0,   0,\n",
              "          0,   0,   0,   0,   0,   0,   0,   0,   0,   0,   0,   0,   0,\n",
              "          0,   0],\n",
              "       [  0,   0,   0,   0,   0,   0,   0,   0,   0,   0,   0,  87, 138,\n",
              "        170, 253, 201, 244, 212, 222, 138,  86,  22,   0,   0,   0,   0,\n",
              "          0,   0],\n",
              "       [  0,   0,   0,   0,   0,   0,   0,   0,   0,   0,  95, 253, 252,\n",
              "        252, 252, 252, 253, 252, 252, 252, 252, 245,  80,   0,   0,   0,\n",
              "          0,   0],\n",
              "       [  0,   0,   0,   0,   0,   0,   0,   0,   0,  68, 246, 205,  69,\n",
              "         69,  69,  69,  69,  69,  69,  69, 205, 253, 240,  50,   0,   0,\n",
              "          0,   0],\n",
              "       [  0,   0,   0,   0,   0,   0,   0,   0,   0, 187, 252, 218,  34,\n",
              "          0,   0,   0,   0,   0,   0,   0, 116, 253, 252,  69,   0,   0,\n",
              "          0,   0],\n",
              "       [  0,   0,   0,   0,   0,   0,   0,   0, 116, 248, 252, 253,  92,\n",
              "          0,   0,   0,   0,   0,   0,  95, 230, 253, 157,   6,   0,   0,\n",
              "          0,   0],\n",
              "       [  0,   0,   0,   0,   0,   0,   0,   0, 116, 249, 253, 189,  42,\n",
              "          0,   0,   0,   0,  36, 170, 253, 243, 158,   0,   0,   0,   0,\n",
              "          0,   0],\n",
              "       [  0,   0,   0,   0,   0,   0,   0,   0,   0, 133, 252, 245, 140,\n",
              "         34,   0,   0,  57, 219, 252, 235,  60,   0,   0,   0,   0,   0,\n",
              "          0,   0],\n",
              "       [  0,   0,   0,   0,   0,   0,   0,   0,   0,  25, 205, 253, 252,\n",
              "        234, 184, 184, 253, 240, 100,  44,   0,   0,   0,   0,   0,   0,\n",
              "          0,   0],\n",
              "       [  0,   0,   0,   0,   0,   0,   0,   0,   0,   0,  21, 161, 219,\n",
              "        252, 252, 252, 234,  37,   0,   0,   0,   0,   0,   0,   0,   0,\n",
              "          0,   0],\n",
              "       [  0,   0,   0,   0,   0,   0,   0,   0,   0,   0,   0,  11, 203,\n",
              "        252, 252, 252, 251, 135,   0,   0,   0,   0,   0,   0,   0,   0,\n",
              "          0,   0],\n",
              "       [  0,   0,   0,   0,   0,   0,   0,   0,   0,   9,  76, 255, 253,\n",
              "        205, 168, 220, 255, 253, 137,   5,   0,   0,   0,   0,   0,   0,\n",
              "          0,   0],\n",
              "       [  0,   0,   0,   0,   0,   0,   0,   0,   0, 114, 252, 249, 132,\n",
              "         25,   0,   0, 180, 252, 252,  45,   0,   0,   0,   0,   0,   0,\n",
              "          0,   0],\n",
              "       [  0,   0,   0,   0,   0,   0,   0,   0,  51, 220, 252, 199,   0,\n",
              "          0,   0,   0,  38, 186, 252, 154,   7,   0,   0,   0,   0,   0,\n",
              "          0,   0],\n",
              "       [  0,   0,   0,   0,   0,   0,   0,   0, 184, 252, 252,  21,   0,\n",
              "          0,   0,   0,   0,  67, 252, 252,  22,   0,   0,   0,   0,   0,\n",
              "          0,   0],\n",
              "       [  0,   0,   0,   0,   0,   0,   0,   0, 184, 252, 200,   0,   0,\n",
              "          0,   0,   0,   0,  47, 252, 252,  22,   0,   0,   0,   0,   0,\n",
              "          0,   0],\n",
              "       [  0,   0,   0,   0,   0,   0,   0,   0, 185, 253, 201,   0,   0,\n",
              "          0,   0,   0,   3, 118, 253, 245,  21,   0,   0,   0,   0,   0,\n",
              "          0,   0],\n",
              "       [  0,   0,   0,   0,   0,   0,   0,   0, 163, 252, 252,   0,   0,\n",
              "          0,   0,   0,  97, 252, 252,  87,   0,   0,   0,   0,   0,   0,\n",
              "          0,   0],\n",
              "       [  0,   0,   0,   0,   0,   0,   0,   0,  51, 240, 252, 123,  70,\n",
              "         70, 112, 184, 222, 252, 170,  13,   0,   0,   0,   0,   0,   0,\n",
              "          0,   0],\n",
              "       [  0,   0,   0,   0,   0,   0,   0,   0,   0, 165, 252, 253, 252,\n",
              "        252, 252, 252, 245, 139,  13,   0,   0,   0,   0,   0,   0,   0,\n",
              "          0,   0],\n",
              "       [  0,   0,   0,   0,   0,   0,   0,   0,   0,   9,  75, 253, 252,\n",
              "        221, 137, 137,  21,   0,   0,   0,   0,   0,   0,   0,   0,   0,\n",
              "          0,   0],\n",
              "       [  0,   0,   0,   0,   0,   0,   0,   0,   0,   0,   0,   0,   0,\n",
              "          0,   0,   0,   0,   0,   0,   0,   0,   0,   0,   0,   0,   0,\n",
              "          0,   0],\n",
              "       [  0,   0,   0,   0,   0,   0,   0,   0,   0,   0,   0,   0,   0,\n",
              "          0,   0,   0,   0,   0,   0,   0,   0,   0,   0,   0,   0,   0,\n",
              "          0,   0],\n",
              "       [  0,   0,   0,   0,   0,   0,   0,   0,   0,   0,   0,   0,   0,\n",
              "          0,   0,   0,   0,   0,   0,   0,   0,   0,   0,   0,   0,   0,\n",
              "          0,   0]], dtype=uint8)"
            ],
            "text/html": [
              "<style>\n",
              "      .ndarray_repr .ndarray_raw_data {\n",
              "        display: none;\n",
              "      }\n",
              "      .ndarray_repr.show_array .ndarray_raw_data {\n",
              "        display: block;\n",
              "      }\n",
              "      .ndarray_repr.show_array .ndarray_image_preview {\n",
              "        display: none;\n",
              "      }\n",
              "      </style>\n",
              "      <div id=\"id-b1252aef-c62a-4f4d-88af-aa4fbcb5c817\" class=\"ndarray_repr\"><pre>ndarray (28, 28) <button style=\"padding: 0 2px;\">show data</button></pre><img src=\"data:image/png;base64,iVBORw0KGgoAAAANSUhEUgAAABwAAAAcCAAAAABXZoBIAAABJElEQVR4nM2RO0sDURCFz/qIRE0lK6QTUQsfGEglWKnEQgvBIo0ggj9ARFCwVXTRXyAoiAgSrMRiEQQ7Cze2FnlgZbGxCISAi2dYiyyJufeWFk51mG/mMIcB/llZv3Q2PbTqTbz33npPvjq3LiQpJFlfUTYX7t72Inmcqs29Auhqwt1YolRuyOlU/0Cb6c4XZS3y/5DzWDsM5HEcAEZyUrtQ7zlk/XQYmCmwMquFSuaFvutKdXPSENm+LJD0Rw0IQN8Lye8jE4ovh5K/KYbidOtwm8FBErgnpzSWLvIZAMYeeNajQpe0AQDz5GDU62hhrwIA+Gx1mtCyGj/oXLSCULW9IgEAG2RWP6jK/Uxmyy0zl9CjXEd/PjEwxJeEJcexDeiP6wefW3R9pZ+EHwAAAABJRU5ErkJggg==\" class=\"ndarray_image_preview\" /><pre class=\"ndarray_raw_data\">array([[  0,   0,   0,   0,   0,   0,   0,   0,   0,   0,   0,   0,   0,\n",
              "          0,   0,   0,   0,   0,   0,   0,   0,   0,   0,   0,   0,   0,\n",
              "          0,   0],\n",
              "       [  0,   0,   0,   0,   0,   0,   0,   0,   0,   0,   0,   0,   0,\n",
              "          0,   0,   0,   0,   0,   0,   0,   0,   0,   0,   0,   0,   0,\n",
              "          0,   0],\n",
              "       [  0,   0,   0,   0,   0,   0,   0,   0,   0,   0,   0,   0,   0,\n",
              "          0,   0,   0,   0,   0,   0,   0,   0,   0,   0,   0,   0,   0,\n",
              "          0,   0],\n",
              "       [  0,   0,   0,   0,   0,   0,   0,   0,   0,   0,   0,   0,   0,\n",
              "          0,   0,   0,   0,   0,   0,   0,   0,   0,   0,   0,   0,   0,\n",
              "          0,   0],\n",
              "       [  0,   0,   0,   0,   0,   0,   0,   0,   0,   0,   0,   0,   0,\n",
              "          0,   0,   0,   0,   0,   0,   0,   0,   0,   0,   0,   0,   0,\n",
              "          0,   0],\n",
              "       [  0,   0,   0,   0,   0,   0,   0,   0,   0,   0,   0,  87, 138,\n",
              "        170, 253, 201, 244, 212, 222, 138,  86,  22,   0,   0,   0,   0,\n",
              "          0,   0],\n",
              "       [  0,   0,   0,   0,   0,   0,   0,   0,   0,   0,  95, 253, 252,\n",
              "        252, 252, 252, 253, 252, 252, 252, 252, 245,  80,   0,   0,   0,\n",
              "          0,   0],\n",
              "       [  0,   0,   0,   0,   0,   0,   0,   0,   0,  68, 246, 205,  69,\n",
              "         69,  69,  69,  69,  69,  69,  69, 205, 253, 240,  50,   0,   0,\n",
              "          0,   0],\n",
              "       [  0,   0,   0,   0,   0,   0,   0,   0,   0, 187, 252, 218,  34,\n",
              "          0,   0,   0,   0,   0,   0,   0, 116, 253, 252,  69,   0,   0,\n",
              "          0,   0],\n",
              "       [  0,   0,   0,   0,   0,   0,   0,   0, 116, 248, 252, 253,  92,\n",
              "          0,   0,   0,   0,   0,   0,  95, 230, 253, 157,   6,   0,   0,\n",
              "          0,   0],\n",
              "       [  0,   0,   0,   0,   0,   0,   0,   0, 116, 249, 253, 189,  42,\n",
              "          0,   0,   0,   0,  36, 170, 253, 243, 158,   0,   0,   0,   0,\n",
              "          0,   0],\n",
              "       [  0,   0,   0,   0,   0,   0,   0,   0,   0, 133, 252, 245, 140,\n",
              "         34,   0,   0,  57, 219, 252, 235,  60,   0,   0,   0,   0,   0,\n",
              "          0,   0],\n",
              "       [  0,   0,   0,   0,   0,   0,   0,   0,   0,  25, 205, 253, 252,\n",
              "        234, 184, 184, 253, 240, 100,  44,   0,   0,   0,   0,   0,   0,\n",
              "          0,   0],\n",
              "       [  0,   0,   0,   0,   0,   0,   0,   0,   0,   0,  21, 161, 219,\n",
              "        252, 252, 252, 234,  37,   0,   0,   0,   0,   0,   0,   0,   0,\n",
              "          0,   0],\n",
              "       [  0,   0,   0,   0,   0,   0,   0,   0,   0,   0,   0,  11, 203,\n",
              "        252, 252, 252, 251, 135,   0,   0,   0,   0,   0,   0,   0,   0,\n",
              "          0,   0],\n",
              "       [  0,   0,   0,   0,   0,   0,   0,   0,   0,   9,  76, 255, 253,\n",
              "        205, 168, 220, 255, 253, 137,   5,   0,   0,   0,   0,   0,   0,\n",
              "          0,   0],\n",
              "       [  0,   0,   0,   0,   0,   0,   0,   0,   0, 114, 252, 249, 132,\n",
              "         25,   0,   0, 180, 252, 252,  45,   0,   0,   0,   0,   0,   0,\n",
              "          0,   0],\n",
              "       [  0,   0,   0,   0,   0,   0,   0,   0,  51, 220, 252, 199,   0,\n",
              "          0,   0,   0,  38, 186, 252, 154,   7,   0,   0,   0,   0,   0,\n",
              "          0,   0],\n",
              "       [  0,   0,   0,   0,   0,   0,   0,   0, 184, 252, 252,  21,   0,\n",
              "          0,   0,   0,   0,  67, 252, 252,  22,   0,   0,   0,   0,   0,\n",
              "          0,   0],\n",
              "       [  0,   0,   0,   0,   0,   0,   0,   0, 184, 252, 200,   0,   0,\n",
              "          0,   0,   0,   0,  47, 252, 252,  22,   0,   0,   0,   0,   0,\n",
              "          0,   0],\n",
              "       [  0,   0,   0,   0,   0,   0,   0,   0, 185, 253, 201,   0,   0,\n",
              "          0,   0,   0,   3, 118, 253, 245,  21,   0,   0,   0,   0,   0,\n",
              "          0,   0],\n",
              "       [  0,   0,   0,   0,   0,   0,   0,   0, 163, 252, 252,   0,   0,\n",
              "          0,   0,   0,  97, 252, 252,  87,   0,   0,   0,   0,   0,   0,\n",
              "          0,   0],\n",
              "       [  0,   0,   0,   0,   0,   0,   0,   0,  51, 240, 252, 123,  70,\n",
              "         70, 112, 184, 222, 252, 170,  13,   0,   0,   0,   0,   0,   0,\n",
              "          0,   0],\n",
              "       [  0,   0,   0,   0,   0,   0,   0,   0,   0, 165, 252, 253, 252,\n",
              "        252, 252, 252, 245, 139,  13,   0,   0,   0,   0,   0,   0,   0,\n",
              "          0,   0],\n",
              "       [  0,   0,   0,   0,   0,   0,   0,   0,   0,   9,  75, 253, 252,\n",
              "        221, 137, 137,  21,   0,   0,   0,   0,   0,   0,   0,   0,   0,\n",
              "          0,   0],\n",
              "       [  0,   0,   0,   0,   0,   0,   0,   0,   0,   0,   0,   0,   0,\n",
              "          0,   0,   0,   0,   0,   0,   0,   0,   0,   0,   0,   0,   0,\n",
              "          0,   0],\n",
              "       [  0,   0,   0,   0,   0,   0,   0,   0,   0,   0,   0,   0,   0,\n",
              "          0,   0,   0,   0,   0,   0,   0,   0,   0,   0,   0,   0,   0,\n",
              "          0,   0],\n",
              "       [  0,   0,   0,   0,   0,   0,   0,   0,   0,   0,   0,   0,   0,\n",
              "          0,   0,   0,   0,   0,   0,   0,   0,   0,   0,   0,   0,   0,\n",
              "          0,   0]], dtype=uint8)</pre></div><script>\n",
              "      (() => {\n",
              "      const titles = ['show data', 'hide data'];\n",
              "      let index = 0\n",
              "      document.querySelector('#id-b1252aef-c62a-4f4d-88af-aa4fbcb5c817 button').onclick = (e) => {\n",
              "        document.querySelector('#id-b1252aef-c62a-4f4d-88af-aa4fbcb5c817').classList.toggle('show_array');\n",
              "        index = (++index) % 2;\n",
              "        document.querySelector('#id-b1252aef-c62a-4f4d-88af-aa4fbcb5c817 button').textContent = titles[index];\n",
              "        e.preventDefault();\n",
              "        e.stopPropagation();\n",
              "      }\n",
              "      })();\n",
              "    </script>"
            ]
          },
          "metadata": {},
          "execution_count": 23
        }
      ],
      "source": [
        "x_train[333]"
      ]
    },
    {
      "cell_type": "markdown",
      "id": "compact-disposal",
      "metadata": {
        "id": "compact-disposal"
      },
      "source": [
        "Check the corresponding label in the training set"
      ]
    },
    {
      "cell_type": "code",
      "execution_count": null,
      "id": "cutting-gentleman",
      "metadata": {
        "id": "cutting-gentleman",
        "colab": {
          "base_uri": "https://localhost:8080/"
        },
        "outputId": "207d2689-58c0-4334-cfc7-a51b86fdc301"
      },
      "outputs": [
        {
          "output_type": "execute_result",
          "data": {
            "text/plain": [
              "8"
            ]
          },
          "metadata": {},
          "execution_count": 24
        }
      ],
      "source": [
        "\n",
        "y_train[333]"
      ]
    },
    {
      "cell_type": "markdown",
      "source": [
        "Check the actual image"
      ],
      "metadata": {
        "id": "X9BTWrXJzW0D"
      },
      "id": "X9BTWrXJzW0D"
    },
    {
      "cell_type": "code",
      "execution_count": null,
      "id": "tight-motivation",
      "metadata": {
        "id": "tight-motivation",
        "colab": {
          "base_uri": "https://localhost:8080/",
          "height": 447
        },
        "outputId": "701bcf67-cfdc-427e-f7a5-fe3c0d319cb2"
      },
      "outputs": [
        {
          "output_type": "execute_result",
          "data": {
            "text/plain": [
              "<matplotlib.image.AxesImage at 0x782f44197bb0>"
            ]
          },
          "metadata": {},
          "execution_count": 25
        },
        {
          "output_type": "display_data",
          "data": {
            "text/plain": [
              "<Figure size 640x480 with 1 Axes>"
            ],
            "image/png": "[encoded data removed]"
          },
          "metadata": {}
        }
      ],
      "source": [
        "\n",
        "plt.imshow(x_train[333], cmap='Greys_r')"
      ]
    },
    {
      "cell_type": "markdown",
      "id": "brutal-young",
      "metadata": {
        "id": "brutal-young"
      },
      "source": [
        "Check the shape of the x_train and x_test"
      ]
    },
    {
      "cell_type": "code",
      "execution_count": null,
      "id": "residential-rouge",
      "metadata": {
        "id": "residential-rouge",
        "colab": {
          "base_uri": "https://localhost:8080/"
        },
        "outputId": "8e5d901e-6d03-4a20-b5d3-8a2145468fac"
      },
      "outputs": [
        {
          "output_type": "stream",
          "name": "stdout",
          "text": [
            "(60000, 28, 28) train samples\n",
            "(10000, 28, 28) test samples\n"
          ]
        }
      ],
      "source": [
        "\n",
        "print(x_train.shape, 'train samples')\n",
        "print(x_test.shape, 'test samples')"
      ]
    },
    {
      "cell_type": "markdown",
      "id": "secret-parameter",
      "metadata": {
        "id": "secret-parameter"
      },
      "source": [
        "* Convert the x_train and x_test\n",
        "* Cast the numbers to floats\n",
        "* Normalize the inputs"
      ]
    },
    {
      "cell_type": "code",
      "execution_count": null,
      "id": "intense-daisy",
      "metadata": {
        "id": "intense-daisy"
      },
      "outputs": [],
      "source": [
        "\n",
        "x_train = x_train.reshape(len(x_train), 28*28)\n",
        "x_test = x_test.reshape(len(x_test), 28*28)\n",
        "\n",
        "\n",
        "x_train = x_train.astype('float32')\n",
        "x_test = x_test.astype('float32')\n",
        "\n",
        "\n",
        "x_train /= 255\n",
        "x_test /= 255\n"
      ]
    },
    {
      "cell_type": "markdown",
      "id": "celtic-output",
      "metadata": {
        "id": "celtic-output"
      },
      "source": [
        "Convert class vectors to binary class matrices"
      ]
    },
    {
      "cell_type": "code",
      "execution_count": null,
      "id": "confidential-incentive",
      "metadata": {
        "id": "confidential-incentive",
        "colab": {
          "base_uri": "https://localhost:8080/"
        },
        "outputId": "09855f84-1966-413c-d6f2-03560bb0ea0f"
      },
      "outputs": [
        {
          "output_type": "execute_result",
          "data": {
            "text/plain": [
              "array([0., 0., 0., 0., 0., 0., 0., 0., 1., 0.], dtype=float32)"
            ]
          },
          "metadata": {},
          "execution_count": 28
        }
      ],
      "source": [
        "\n",
        "num_classes = 10\n",
        "y_train = keras.utils.to_categorical(y_train, num_classes)\n",
        "y_test = keras.utils.to_categorical(y_test, num_classes)\n",
        "\n",
        "y_train[333]  # now the digit k is represented by a 1 in the kth entry (0-indexed) of the length 10 vector"
      ]
    },
    {
      "cell_type": "markdown",
      "id": "lightweight-walter",
      "metadata": {
        "id": "lightweight-walter"
      },
      "source": [
        "* Build the model with two hidden layers of size 512.\n",
        "* Use dropout of 0.2\n",
        "* Check the model summary"
      ]
    },
    {
      "cell_type": "code",
      "execution_count": null,
      "id": "level-blair",
      "metadata": {
        "id": "level-blair"
      },
      "outputs": [],
      "source": [
        "\n",
        "model = Sequential()\n",
        "model.add(Dense(64, activation='relu', input_shape=(784,)))\n",
        "model.add(Dropout(0.2))\n",
        "model.add(Dense(64, activation='relu'))\n",
        "model.add(Dropout(0.2))\n",
        "model.add(Dense(10, activation='softmax'))"
      ]
    },
    {
      "cell_type": "code",
      "execution_count": null,
      "id": "filled-class",
      "metadata": {
        "id": "filled-class",
        "colab": {
          "base_uri": "https://localhost:8080/"
        },
        "outputId": "37d19408-272b-4498-ac2b-83cb22de9b9e"
      },
      "outputs": [
        {
          "output_type": "stream",
          "name": "stdout",
          "text": [
            "Model: \"sequential_1\"\n",
            "_________________________________________________________________\n",
            " Layer (type)                Output Shape              Param #   \n",
            "=================================================================\n",
            " dense_3 (Dense)             (None, 64)                50240     \n",
            "                                                                 \n",
            " dropout_2 (Dropout)         (None, 64)                0         \n",
            "                                                                 \n",
            " dense_4 (Dense)             (None, 64)                4160      \n",
            "                                                                 \n",
            " dropout_3 (Dropout)         (None, 64)                0         \n",
            "                                                                 \n",
            " dense_5 (Dense)             (None, 10)                650       \n",
            "                                                                 \n",
            "=================================================================\n",
            "Total params: 55050 (215.04 KB)\n",
            "Trainable params: 55050 (215.04 KB)\n",
            "Non-trainable params: 0 (0.00 Byte)\n",
            "_________________________________________________________________\n"
          ]
        }
      ],
      "source": [
        "model.summary()"
      ]
    },
    {
      "cell_type": "markdown",
      "id": "thrown-entry",
      "metadata": {
        "id": "thrown-entry"
      },
      "source": [
        "Compile the model using learning rate of 0.001 and optimizer of RMSprop"
      ]
    },
    {
      "cell_type": "code",
      "execution_count": null,
      "id": "oriental-family",
      "metadata": {
        "id": "oriental-family",
        "colab": {
          "base_uri": "https://localhost:8080/"
        },
        "outputId": "51d6fbc9-fad5-4348-f1b9-6c0fffe86465"
      },
      "outputs": [
        {
          "output_type": "stream",
          "name": "stderr",
          "text": [
            "WARNING:absl:`lr` is deprecated in Keras optimizer, please use `learning_rate` or use the legacy optimizer, e.g.,tf.keras.optimizers.legacy.RMSprop.\n"
          ]
        },
        {
          "output_type": "stream",
          "name": "stdout",
          "text": [
            "Epoch 1/30\n",
            "469/469 [==============================] - 3s 5ms/step - loss: 0.5191 - accuracy: 0.8452 - val_loss: 0.2148 - val_accuracy: 0.9356\n",
            "Epoch 2/30\n",
            "469/469 [==============================] - 2s 5ms/step - loss: 0.2567 - accuracy: 0.9240 - val_loss: 0.1546 - val_accuracy: 0.9528\n",
            "Epoch 3/30\n",
            "469/469 [==============================] - 2s 4ms/step - loss: 0.2014 - accuracy: 0.9401 - val_loss: 0.1264 - val_accuracy: 0.9617\n",
            "Epoch 4/30\n",
            "469/469 [==============================] - 2s 4ms/step - loss: 0.1737 - accuracy: 0.9495 - val_loss: 0.1130 - val_accuracy: 0.9664\n",
            "Epoch 5/30\n",
            "469/469 [==============================] - 2s 4ms/step - loss: 0.1570 - accuracy: 0.9537 - val_loss: 0.1077 - val_accuracy: 0.9699\n",
            "Epoch 6/30\n",
            "469/469 [==============================] - 2s 4ms/step - loss: 0.1432 - accuracy: 0.9575 - val_loss: 0.1022 - val_accuracy: 0.9696\n",
            "Epoch 7/30\n",
            "469/469 [==============================] - 2s 4ms/step - loss: 0.1366 - accuracy: 0.9593 - val_loss: 0.0965 - val_accuracy: 0.9723\n",
            "Epoch 8/30\n",
            "469/469 [==============================] - 2s 5ms/step - loss: 0.1243 - accuracy: 0.9623 - val_loss: 0.0929 - val_accuracy: 0.9736\n",
            "Epoch 9/30\n",
            "469/469 [==============================] - 2s 5ms/step - loss: 0.1200 - accuracy: 0.9644 - val_loss: 0.0930 - val_accuracy: 0.9748\n",
            "Epoch 10/30\n",
            "469/469 [==============================] - 2s 4ms/step - loss: 0.1157 - accuracy: 0.9658 - val_loss: 0.0969 - val_accuracy: 0.9738\n",
            "Epoch 11/30\n",
            "469/469 [==============================] - 2s 4ms/step - loss: 0.1111 - accuracy: 0.9660 - val_loss: 0.0945 - val_accuracy: 0.9738\n",
            "Epoch 12/30\n",
            "469/469 [==============================] - 2s 4ms/step - loss: 0.1070 - accuracy: 0.9676 - val_loss: 0.0946 - val_accuracy: 0.9747\n",
            "Epoch 13/30\n",
            "469/469 [==============================] - 2s 4ms/step - loss: 0.1054 - accuracy: 0.9687 - val_loss: 0.0954 - val_accuracy: 0.9750\n",
            "Epoch 14/30\n",
            "469/469 [==============================] - 2s 4ms/step - loss: 0.0975 - accuracy: 0.9702 - val_loss: 0.0913 - val_accuracy: 0.9766\n",
            "Epoch 15/30\n",
            "469/469 [==============================] - 2s 5ms/step - loss: 0.0969 - accuracy: 0.9706 - val_loss: 0.0934 - val_accuracy: 0.9748\n",
            "Epoch 16/30\n",
            "469/469 [==============================] - 2s 4ms/step - loss: 0.0960 - accuracy: 0.9721 - val_loss: 0.0951 - val_accuracy: 0.9757\n",
            "Epoch 17/30\n",
            "469/469 [==============================] - 2s 4ms/step - loss: 0.0910 - accuracy: 0.9728 - val_loss: 0.0946 - val_accuracy: 0.9758\n",
            "Epoch 18/30\n",
            "469/469 [==============================] - 2s 4ms/step - loss: 0.0924 - accuracy: 0.9722 - val_loss: 0.1012 - val_accuracy: 0.9740\n",
            "Epoch 19/30\n",
            "469/469 [==============================] - 2s 4ms/step - loss: 0.0875 - accuracy: 0.9735 - val_loss: 0.0987 - val_accuracy: 0.9744\n",
            "Epoch 20/30\n",
            "469/469 [==============================] - 2s 4ms/step - loss: 0.0866 - accuracy: 0.9739 - val_loss: 0.0969 - val_accuracy: 0.9745\n",
            "Epoch 21/30\n",
            "469/469 [==============================] - 2s 5ms/step - loss: 0.0862 - accuracy: 0.9745 - val_loss: 0.1004 - val_accuracy: 0.9745\n",
            "Epoch 22/30\n",
            "469/469 [==============================] - 2s 5ms/step - loss: 0.0844 - accuracy: 0.9745 - val_loss: 0.0993 - val_accuracy: 0.9757\n",
            "Epoch 23/30\n",
            "469/469 [==============================] - 2s 4ms/step - loss: 0.0868 - accuracy: 0.9743 - val_loss: 0.0958 - val_accuracy: 0.9753\n",
            "Epoch 24/30\n",
            "469/469 [==============================] - 2s 4ms/step - loss: 0.0829 - accuracy: 0.9751 - val_loss: 0.0990 - val_accuracy: 0.9757\n",
            "Epoch 25/30\n",
            "469/469 [==============================] - 2s 4ms/step - loss: 0.0812 - accuracy: 0.9757 - val_loss: 0.0978 - val_accuracy: 0.9763\n",
            "Epoch 26/30\n",
            "469/469 [==============================] - 2s 4ms/step - loss: 0.0817 - accuracy: 0.9750 - val_loss: 0.1003 - val_accuracy: 0.9765\n",
            "Epoch 27/30\n",
            "469/469 [==============================] - 2s 5ms/step - loss: 0.0792 - accuracy: 0.9761 - val_loss: 0.1100 - val_accuracy: 0.9756\n",
            "Epoch 28/30\n",
            "469/469 [==============================] - 2s 5ms/step - loss: 0.0804 - accuracy: 0.9760 - val_loss: 0.1050 - val_accuracy: 0.9758\n",
            "Epoch 29/30\n",
            "469/469 [==============================] - 2s 4ms/step - loss: 0.0793 - accuracy: 0.9766 - val_loss: 0.1059 - val_accuracy: 0.9759\n",
            "Epoch 30/30\n",
            "469/469 [==============================] - 2s 4ms/step - loss: 0.0787 - accuracy: 0.9763 - val_loss: 0.1038 - val_accuracy: 0.9761\n"
          ]
        }
      ],
      "source": [
        "learning_rate = .001\n",
        "model.compile(loss='categorical_crossentropy',\n",
        "              optimizer=RMSprop(lr=learning_rate),\n",
        "              metrics=['accuracy'])\n",
        "batch_size = 128  # mini-batch with 128 examples\n",
        "epochs = 30\n",
        "history = model.fit(\n",
        "    x_train, y_train,\n",
        "    batch_size=batch_size,\n",
        "    epochs=epochs,\n",
        "    verbose=1,\n",
        "    validation_data=(x_test, y_test))"
      ]
    },
    {
      "cell_type": "markdown",
      "id": "forty-trout",
      "metadata": {
        "id": "forty-trout"
      },
      "source": [
        "Use Keras evaluate function to evaluate performance on the test set"
      ]
    },
    {
      "cell_type": "code",
      "execution_count": null,
      "id": "random-ballet",
      "metadata": {
        "id": "random-ballet",
        "colab": {
          "base_uri": "https://localhost:8080/"
        },
        "outputId": "8191362c-86a9-408b-cf58-8241ea1cda21"
      },
      "outputs": [
        {
          "output_type": "stream",
          "name": "stdout",
          "text": [
            "Test loss: 0.10383091866970062\n",
            "Test accuracy: 0.9761000275611877\n"
          ]
        }
      ],
      "source": [
        "\n",
        "score = model.evaluate(x_test, y_test, verbose=0)\n",
        "print('Test loss:', score[0])\n",
        "print('Test accuracy:', score[1])"
      ]
    },
    {
      "cell_type": "markdown",
      "id": "fatal-tournament",
      "metadata": {
        "id": "fatal-tournament"
      },
      "source": [
        "We have achieve 97% accuracy in testing data set which is very good. And loss is also good as it is very close to 0."
      ]
    },
    {
      "cell_type": "code",
      "execution_count": null,
      "id": "imported-impression",
      "metadata": {
        "id": "imported-impression",
        "colab": {
          "base_uri": "https://localhost:8080/"
        },
        "outputId": "577a8a63-af1d-45f8-e9bc-e9c312b19f83"
      },
      "outputs": [
        {
          "output_type": "display_data",
          "data": {
            "text/plain": [
              "<Figure size 1200x600 with 2 Axes>"
            ],
            "image/png": "[encoded data removed]"
          },
          "metadata": {}
        }
      ],
      "source": [
        "def plot_loss_accuracy(history):\n",
        "    fig = plt.figure(figsize=(12, 6))\n",
        "    ax = fig.add_subplot(1, 2, 1)\n",
        "    ax.plot(history.history[\"loss\"],'r-x', label=\"Train Loss\")\n",
        "    ax.plot(history.history[\"val_loss\"],'b-x', label=\"Validation Loss\")\n",
        "    ax.legend()\n",
        "    ax.set_title('cross_entropy loss')\n",
        "    ax.grid(True)\n",
        "\n",
        "\n",
        "    ax = fig.add_subplot(1, 2, 2)\n",
        "    ax.plot(history.history[\"accuracy\"],'r-x', label=\"Train Accuracy\")\n",
        "    ax.plot(history.history[\"val_accuracy\"],'b-x', label=\"Validation Accuracy\")\n",
        "    ax.legend()\n",
        "    ax.set_title('accuracy')\n",
        "    ax.grid(True)\n",
        "\n",
        "\n",
        "plot_loss_accuracy(history)"
      ]
    },
    {
      "cell_type": "markdown",
      "id": "acoustic-recipient",
      "metadata": {
        "id": "acoustic-recipient"
      },
      "source": [
        "the cross entropy loss graph was great and the train loss and validation loss are following the right curve and is close to oneanother meaning it is not underfitting and not overfitting. In the accuracy graph that is also the case and in the last epoch their accuracy is almost the same which is very great."
      ]
    },
    {
      "cell_type": "markdown",
      "id": "three-terrorist",
      "metadata": {
        "id": "three-terrorist"
      },
      "source": [
        "#### Supplementary Activity\n",
        "\n",
        "* Use the Keras \"Sequential\" functionality to build a new model (model_1) with the following specifications:\n",
        "\n",
        "1. Two hidden layers.\n",
        "2. First hidden layer of size 400 and second of size 300\n",
        "3. Dropout of .4 at each layer\n",
        "4. How many parameters does your model have?  How does it compare with the previous model?\n",
        "5. Train this model for 20 epochs with RMSProp at a learning rate of .001 and a batch size of 128\n",
        "6. Use at least two  regularization techniques and apply it to the new model (model_2)\n",
        "7. Train this model for your preferred epochs , learning rate, batch size and optimizer\n",
        "8. Compare the accuracy and loss (training and validation) of model_1 and model_2"
      ]
    },
    {
      "cell_type": "code",
      "source": [
        "from google.colab import drive\n",
        "drive.mount('/content/drive')"
      ],
      "metadata": {
        "colab": {
          "base_uri": "https://localhost:8080/"
        },
        "id": "OMDtUfq6_JYK",
        "outputId": "31dafd79-357c-4fa9-9284-e6b5c8e9ee45"
      },
      "id": "OMDtUfq6_JYK",
      "execution_count": null,
      "outputs": [
        {
          "output_type": "stream",
          "name": "stdout",
          "text": [
            "Mounted at /content/drive\n"
          ]
        }
      ]
    },
    {
      "cell_type": "code",
      "source": [
        "from sklearn.model_selection import train_test_split\n",
        "from sklearn.preprocessing import StandardScaler"
      ],
      "metadata": {
        "id": "Ranp3sHl_r2K"
      },
      "id": "Ranp3sHl_r2K",
      "execution_count": null,
      "outputs": []
    },
    {
      "cell_type": "code",
      "execution_count": null,
      "id": "responsible-preserve",
      "metadata": {
        "id": "responsible-preserve",
        "colab": {
          "base_uri": "https://localhost:8080/",
          "height": 206
        },
        "outputId": "05eb9100-d1c0-467e-eee2-129291c36588"
      },
      "outputs": [
        {
          "output_type": "execute_result",
          "data": {
            "text/plain": [
              "   Kyphosis  Age  Number  Start\n",
              "76  present  157       3     13\n",
              "77   absent   26       7     13\n",
              "78   absent  120       2     13\n",
              "79  present   42       7      6\n",
              "80   absent   36       4     13"
            ],
            "text/html": [
              "\n",
              "  <div id=\"df-56503064-9185-49b0-955c-442600525bfb\" class=\"colab-df-container\">\n",
              "    <div>\n",
              "<style scoped>\n",
              "    .dataframe tbody tr th:only-of-type {\n",
              "        vertical-align: middle;\n",
              "    }\n",
              "\n",
              "    .dataframe tbody tr th {\n",
              "        vertical-align: top;\n",
              "    }\n",
              "\n",
              "    .dataframe thead th {\n",
              "        text-align: right;\n",
              "    }\n",
              "</style>\n",
              "<table border=\"1\" class=\"dataframe\">\n",
              "  <thead>\n",
              "    <tr style=\"text-align: right;\">\n",
              "      <th></th>\n",
              "      <th>Kyphosis</th>\n",
              "      <th>Age</th>\n",
              "      <th>Number</th>\n",
              "      <th>Start</th>\n",
              "    </tr>\n",
              "  </thead>\n",
              "  <tbody>\n",
              "    <tr>\n",
              "      <th>76</th>\n",
              "      <td>present</td>\n",
              "      <td>157</td>\n",
              "      <td>3</td>\n",
              "      <td>13</td>\n",
              "    </tr>\n",
              "    <tr>\n",
              "      <th>77</th>\n",
              "      <td>absent</td>\n",
              "      <td>26</td>\n",
              "      <td>7</td>\n",
              "      <td>13</td>\n",
              "    </tr>\n",
              "    <tr>\n",
              "      <th>78</th>\n",
              "      <td>absent</td>\n",
              "      <td>120</td>\n",
              "      <td>2</td>\n",
              "      <td>13</td>\n",
              "    </tr>\n",
              "    <tr>\n",
              "      <th>79</th>\n",
              "      <td>present</td>\n",
              "      <td>42</td>\n",
              "      <td>7</td>\n",
              "      <td>6</td>\n",
              "    </tr>\n",
              "    <tr>\n",
              "      <th>80</th>\n",
              "      <td>absent</td>\n",
              "      <td>36</td>\n",
              "      <td>4</td>\n",
              "      <td>13</td>\n",
              "    </tr>\n",
              "  </tbody>\n",
              "</table>\n",
              "</div>\n",
              "    <div class=\"colab-df-buttons\">\n",
              "\n",
              "  <div class=\"colab-df-container\">\n",
              "    <button class=\"colab-df-convert\" onclick=\"convertToInteractive('df-56503064-9185-49b0-955c-442600525bfb')\"\n",
              "            title=\"Convert this dataframe to an interactive table.\"\n",
              "            style=\"display:none;\">\n",
              "\n",
              "  <svg xmlns=\"http://www.w3.org/2000/svg\" height=\"24px\" viewBox=\"0 -960 960 960\">\n",
              "    <path d=\"M120-120v-720h720v720H120Zm60-500h600v-160H180v160Zm220 220h160v-160H400v160Zm0 220h160v-160H400v160ZM180-400h160v-160H180v160Zm440 0h160v-160H620v160ZM180-180h160v-160H180v160Zm440 0h160v-160H620v160Z\"/>\n",
              "  </svg>\n",
              "    </button>\n",
              "\n",
              "  <style>\n",
              "    .colab-df-container {\n",
              "      display:flex;\n",
              "      gap: 12px;\n",
              "    }\n",
              "\n",
              "    .colab-df-convert {\n",
              "      background-color: #E8F0FE;\n",
              "      border: none;\n",
              "      border-radius: 50%;\n",
              "      cursor: pointer;\n",
              "      display: none;\n",
              "      fill: #1967D2;\n",
              "      height: 32px;\n",
              "      padding: 0 0 0 0;\n",
              "      width: 32px;\n",
              "    }\n",
              "\n",
              "    .colab-df-convert:hover {\n",
              "      background-color: #E2EBFA;\n",
              "      box-shadow: 0px 1px 2px rgba(60, 64, 67, 0.3), 0px 1px 3px 1px rgba(60, 64, 67, 0.15);\n",
              "      fill: #174EA6;\n",
              "    }\n",
              "\n",
              "    .colab-df-buttons div {\n",
              "      margin-bottom: 4px;\n",
              "    }\n",
              "\n",
              "    [theme=dark] .colab-df-convert {\n",
              "      background-color: #3B4455;\n",
              "      fill: #D2E3FC;\n",
              "    }\n",
              "\n",
              "    [theme=dark] .colab-df-convert:hover {\n",
              "      background-color: #434B5C;\n",
              "      box-shadow: 0px 1px 3px 1px rgba(0, 0, 0, 0.15);\n",
              "      filter: drop-shadow(0px 1px 2px rgba(0, 0, 0, 0.3));\n",
              "      fill: #FFFFFF;\n",
              "    }\n",
              "  </style>\n",
              "\n",
              "    <script>\n",
              "      const buttonEl =\n",
              "        document.querySelector('#df-56503064-9185-49b0-955c-442600525bfb button.colab-df-convert');\n",
              "      buttonEl.style.display =\n",
              "        google.colab.kernel.accessAllowed ? 'block' : 'none';\n",
              "\n",
              "      async function convertToInteractive(key) {\n",
              "        const element = document.querySelector('#df-56503064-9185-49b0-955c-442600525bfb');\n",
              "        const dataTable =\n",
              "          await google.colab.kernel.invokeFunction('convertToInteractive',\n",
              "                                                    [key], {});\n",
              "        if (!dataTable) return;\n",
              "\n",
              "        const docLinkHtml = 'Like what you see? Visit the ' +\n",
              "          '<a target=\"_blank\" href=https://colab.research.google.com/notebooks/data_table.ipynb>data table notebook</a>'\n",
              "          + ' to learn more about interactive tables.';\n",
              "        element.innerHTML = '';\n",
              "        dataTable['output_type'] = 'display_data';\n",
              "        await google.colab.output.renderOutput(dataTable, element);\n",
              "        const docLink = document.createElement('div');\n",
              "        docLink.innerHTML = docLinkHtml;\n",
              "        element.appendChild(docLink);\n",
              "      }\n",
              "    </script>\n",
              "  </div>\n",
              "\n",
              "\n",
              "<div id=\"df-ba9c3e6a-9ead-4525-8a88-c9241f964156\">\n",
              "  <button class=\"colab-df-quickchart\" onclick=\"quickchart('df-ba9c3e6a-9ead-4525-8a88-c9241f964156')\"\n",
              "            title=\"Suggest charts\"\n",
              "            style=\"display:none;\">\n",
              "\n",
              "<svg xmlns=\"http://www.w3.org/2000/svg\" height=\"24px\"viewBox=\"0 0 24 24\"\n",
              "     width=\"24px\">\n",
              "    <g>\n",
              "        <path d=\"M19 3H5c-1.1 0-2 .9-2 2v14c0 1.1.9 2 2 2h14c1.1 0 2-.9 2-2V5c0-1.1-.9-2-2-2zM9 17H7v-7h2v7zm4 0h-2V7h2v10zm4 0h-2v-4h2v4z\"/>\n",
              "    </g>\n",
              "</svg>\n",
              "  </button>\n",
              "\n",
              "<style>\n",
              "  .colab-df-quickchart {\n",
              "      --bg-color: #E8F0FE;\n",
              "      --fill-color: #1967D2;\n",
              "      --hover-bg-color: #E2EBFA;\n",
              "      --hover-fill-color: #174EA6;\n",
              "      --disabled-fill-color: #AAA;\n",
              "      --disabled-bg-color: #DDD;\n",
              "  }\n",
              "\n",
              "  [theme=dark] .colab-df-quickchart {\n",
              "      --bg-color: #3B4455;\n",
              "      --fill-color: #D2E3FC;\n",
              "      --hover-bg-color: #434B5C;\n",
              "      --hover-fill-color: #FFFFFF;\n",
              "      --disabled-bg-color: #3B4455;\n",
              "      --disabled-fill-color: #666;\n",
              "  }\n",
              "\n",
              "  .colab-df-quickchart {\n",
              "    background-color: var(--bg-color);\n",
              "    border: none;\n",
              "    border-radius: 50%;\n",
              "    cursor: pointer;\n",
              "    display: none;\n",
              "    fill: var(--fill-color);\n",
              "    height: 32px;\n",
              "    padding: 0;\n",
              "    width: 32px;\n",
              "  }\n",
              "\n",
              "  .colab-df-quickchart:hover {\n",
              "    background-color: var(--hover-bg-color);\n",
              "    box-shadow: 0 1px 2px rgba(60, 64, 67, 0.3), 0 1px 3px 1px rgba(60, 64, 67, 0.15);\n",
              "    fill: var(--button-hover-fill-color);\n",
              "  }\n",
              "\n",
              "  .colab-df-quickchart-complete:disabled,\n",
              "  .colab-df-quickchart-complete:disabled:hover {\n",
              "    background-color: var(--disabled-bg-color);\n",
              "    fill: var(--disabled-fill-color);\n",
              "    box-shadow: none;\n",
              "  }\n",
              "\n",
              "  .colab-df-spinner {\n",
              "    border: 2px solid var(--fill-color);\n",
              "    border-color: transparent;\n",
              "    border-bottom-color: var(--fill-color);\n",
              "    animation:\n",
              "      spin 1s steps(1) infinite;\n",
              "  }\n",
              "\n",
              "  @keyframes spin {\n",
              "    0% {\n",
              "      border-color: transparent;\n",
              "      border-bottom-color: var(--fill-color);\n",
              "      border-left-color: var(--fill-color);\n",
              "    }\n",
              "    20% {\n",
              "      border-color: transparent;\n",
              "      border-left-color: var(--fill-color);\n",
              "      border-top-color: var(--fill-color);\n",
              "    }\n",
              "    30% {\n",
              "      border-color: transparent;\n",
              "      border-left-color: var(--fill-color);\n",
              "      border-top-color: var(--fill-color);\n",
              "      border-right-color: var(--fill-color);\n",
              "    }\n",
              "    40% {\n",
              "      border-color: transparent;\n",
              "      border-right-color: var(--fill-color);\n",
              "      border-top-color: var(--fill-color);\n",
              "    }\n",
              "    60% {\n",
              "      border-color: transparent;\n",
              "      border-right-color: var(--fill-color);\n",
              "    }\n",
              "    80% {\n",
              "      border-color: transparent;\n",
              "      border-right-color: var(--fill-color);\n",
              "      border-bottom-color: var(--fill-color);\n",
              "    }\n",
              "    90% {\n",
              "      border-color: transparent;\n",
              "      border-bottom-color: var(--fill-color);\n",
              "    }\n",
              "  }\n",
              "</style>\n",
              "\n",
              "  <script>\n",
              "    async function quickchart(key) {\n",
              "      const quickchartButtonEl =\n",
              "        document.querySelector('#' + key + ' button');\n",
              "      quickchartButtonEl.disabled = true;  // To prevent multiple clicks.\n",
              "      quickchartButtonEl.classList.add('colab-df-spinner');\n",
              "      try {\n",
              "        const charts = await google.colab.kernel.invokeFunction(\n",
              "            'suggestCharts', [key], {});\n",
              "      } catch (error) {\n",
              "        console.error('Error during call to suggestCharts:', error);\n",
              "      }\n",
              "      quickchartButtonEl.classList.remove('colab-df-spinner');\n",
              "      quickchartButtonEl.classList.add('colab-df-quickchart-complete');\n",
              "    }\n",
              "    (() => {\n",
              "      let quickchartButtonEl =\n",
              "        document.querySelector('#df-ba9c3e6a-9ead-4525-8a88-c9241f964156 button');\n",
              "      quickchartButtonEl.style.display =\n",
              "        google.colab.kernel.accessAllowed ? 'block' : 'none';\n",
              "    })();\n",
              "  </script>\n",
              "</div>\n",
              "    </div>\n",
              "  </div>\n"
            ],
            "application/vnd.google.colaboratory.intrinsic+json": {
              "type": "dataframe",
              "summary": "{\n  \"name\": \"df\",\n  \"rows\": 5,\n  \"fields\": [\n    {\n      \"column\": \"Kyphosis\",\n      \"properties\": {\n        \"dtype\": \"category\",\n        \"samples\": [\n          \"absent\",\n          \"present\"\n        ],\n        \"num_unique_values\": 2,\n        \"semantic_type\": \"\",\n        \"description\": \"\"\n      }\n    },\n    {\n      \"column\": \"Age\",\n      \"properties\": {\n        \"dtype\": \"number\",\n        \"std\": 58,\n        \"min\": 26,\n        \"max\": 157,\n        \"samples\": [\n          26,\n          36\n        ],\n        \"num_unique_values\": 5,\n        \"semantic_type\": \"\",\n        \"description\": \"\"\n      }\n    },\n    {\n      \"column\": \"Number\",\n      \"properties\": {\n        \"dtype\": \"number\",\n        \"std\": 2,\n        \"min\": 2,\n        \"max\": 7,\n        \"samples\": [\n          7,\n          4\n        ],\n        \"num_unique_values\": 4,\n        \"semantic_type\": \"\",\n        \"description\": \"\"\n      }\n    },\n    {\n      \"column\": \"Start\",\n      \"properties\": {\n        \"dtype\": \"number\",\n        \"std\": 3,\n        \"min\": 6,\n        \"max\": 13,\n        \"samples\": [\n          6,\n          13\n        ],\n        \"num_unique_values\": 2,\n        \"semantic_type\": \"\",\n        \"description\": \"\"\n      }\n    }\n  ]\n}"
            }
          },
          "metadata": {},
          "execution_count": 37
        }
      ],
      "source": [
        "import pandas as pd\n",
        "filepath = \"/content/drive/MyDrive/data sci 3 files/mounted files/kyphosis.csv\"\n",
        "\n",
        "df = pd.read_csv(filepath);\n",
        "\n",
        "\n",
        "# Print the first rows of the pandas DataFrame.\n",
        "df.tail()"
      ]
    },
    {
      "cell_type": "code",
      "source": [
        "df['Kyphosis'] = df['Kyphosis'].apply(lambda x: 1 if x==\"present\" else 0)"
      ],
      "metadata": {
        "id": "1J4WICUu_U1p"
      },
      "id": "1J4WICUu_U1p",
      "execution_count": null,
      "outputs": []
    },
    {
      "cell_type": "code",
      "source": [
        "df"
      ],
      "metadata": {
        "colab": {
          "base_uri": "https://localhost:8080/",
          "height": 424
        },
        "id": "UQRgBKP8_W3J",
        "outputId": "cf669e52-c903-499a-cbfc-2129f231d3b0"
      },
      "id": "UQRgBKP8_W3J",
      "execution_count": null,
      "outputs": [
        {
          "output_type": "execute_result",
          "data": {
            "text/plain": [
              "    Kyphosis  Age  Number  Start\n",
              "0          0   71       3      5\n",
              "1          0  158       3     14\n",
              "2          1  128       4      5\n",
              "3          0    2       5      1\n",
              "4          0    1       4     15\n",
              "..       ...  ...     ...    ...\n",
              "76         1  157       3     13\n",
              "77         0   26       7     13\n",
              "78         0  120       2     13\n",
              "79         1   42       7      6\n",
              "80         0   36       4     13\n",
              "\n",
              "[81 rows x 4 columns]"
            ],
            "text/html": [
              "\n",
              "  <div id=\"df-9477d5eb-db04-4230-bcf0-231358fe479d\" class=\"colab-df-container\">\n",
              "    <div>\n",
              "<style scoped>\n",
              "    .dataframe tbody tr th:only-of-type {\n",
              "        vertical-align: middle;\n",
              "    }\n",
              "\n",
              "    .dataframe tbody tr th {\n",
              "        vertical-align: top;\n",
              "    }\n",
              "\n",
              "    .dataframe thead th {\n",
              "        text-align: right;\n",
              "    }\n",
              "</style>\n",
              "<table border=\"1\" class=\"dataframe\">\n",
              "  <thead>\n",
              "    <tr style=\"text-align: right;\">\n",
              "      <th></th>\n",
              "      <th>Kyphosis</th>\n",
              "      <th>Age</th>\n",
              "      <th>Number</th>\n",
              "      <th>Start</th>\n",
              "    </tr>\n",
              "  </thead>\n",
              "  <tbody>\n",
              "    <tr>\n",
              "      <th>0</th>\n",
              "      <td>0</td>\n",
              "      <td>71</td>\n",
              "      <td>3</td>\n",
              "      <td>5</td>\n",
              "    </tr>\n",
              "    <tr>\n",
              "      <th>1</th>\n",
              "      <td>0</td>\n",
              "      <td>158</td>\n",
              "      <td>3</td>\n",
              "      <td>14</td>\n",
              "    </tr>\n",
              "    <tr>\n",
              "      <th>2</th>\n",
              "      <td>1</td>\n",
              "      <td>128</td>\n",
              "      <td>4</td>\n",
              "      <td>5</td>\n",
              "    </tr>\n",
              "    <tr>\n",
              "      <th>3</th>\n",
              "      <td>0</td>\n",
              "      <td>2</td>\n",
              "      <td>5</td>\n",
              "      <td>1</td>\n",
              "    </tr>\n",
              "    <tr>\n",
              "      <th>4</th>\n",
              "      <td>0</td>\n",
              "      <td>1</td>\n",
              "      <td>4</td>\n",
              "      <td>15</td>\n",
              "    </tr>\n",
              "    <tr>\n",
              "      <th>...</th>\n",
              "      <td>...</td>\n",
              "      <td>...</td>\n",
              "      <td>...</td>\n",
              "      <td>...</td>\n",
              "    </tr>\n",
              "    <tr>\n",
              "      <th>76</th>\n",
              "      <td>1</td>\n",
              "      <td>157</td>\n",
              "      <td>3</td>\n",
              "      <td>13</td>\n",
              "    </tr>\n",
              "    <tr>\n",
              "      <th>77</th>\n",
              "      <td>0</td>\n",
              "      <td>26</td>\n",
              "      <td>7</td>\n",
              "      <td>13</td>\n",
              "    </tr>\n",
              "    <tr>\n",
              "      <th>78</th>\n",
              "      <td>0</td>\n",
              "      <td>120</td>\n",
              "      <td>2</td>\n",
              "      <td>13</td>\n",
              "    </tr>\n",
              "    <tr>\n",
              "      <th>79</th>\n",
              "      <td>1</td>\n",
              "      <td>42</td>\n",
              "      <td>7</td>\n",
              "      <td>6</td>\n",
              "    </tr>\n",
              "    <tr>\n",
              "      <th>80</th>\n",
              "      <td>0</td>\n",
              "      <td>36</td>\n",
              "      <td>4</td>\n",
              "      <td>13</td>\n",
              "    </tr>\n",
              "  </tbody>\n",
              "</table>\n",
              "<p>81 rows × 4 columns</p>\n",
              "</div>\n",
              "    <div class=\"colab-df-buttons\">\n",
              "\n",
              "  <div class=\"colab-df-container\">\n",
              "    <button class=\"colab-df-convert\" onclick=\"convertToInteractive('df-9477d5eb-db04-4230-bcf0-231358fe479d')\"\n",
              "            title=\"Convert this dataframe to an interactive table.\"\n",
              "            style=\"display:none;\">\n",
              "\n",
              "  <svg xmlns=\"http://www.w3.org/2000/svg\" height=\"24px\" viewBox=\"0 -960 960 960\">\n",
              "    <path d=\"M120-120v-720h720v720H120Zm60-500h600v-160H180v160Zm220 220h160v-160H400v160Zm0 220h160v-160H400v160ZM180-400h160v-160H180v160Zm440 0h160v-160H620v160ZM180-180h160v-160H180v160Zm440 0h160v-160H620v160Z\"/>\n",
              "  </svg>\n",
              "    </button>\n",
              "\n",
              "  <style>\n",
              "    .colab-df-container {\n",
              "      display:flex;\n",
              "      gap: 12px;\n",
              "    }\n",
              "\n",
              "    .colab-df-convert {\n",
              "      background-color: #E8F0FE;\n",
              "      border: none;\n",
              "      border-radius: 50%;\n",
              "      cursor: pointer;\n",
              "      display: none;\n",
              "      fill: #1967D2;\n",
              "      height: 32px;\n",
              "      padding: 0 0 0 0;\n",
              "      width: 32px;\n",
              "    }\n",
              "\n",
              "    .colab-df-convert:hover {\n",
              "      background-color: #E2EBFA;\n",
              "      box-shadow: 0px 1px 2px rgba(60, 64, 67, 0.3), 0px 1px 3px 1px rgba(60, 64, 67, 0.15);\n",
              "      fill: #174EA6;\n",
              "    }\n",
              "\n",
              "    .colab-df-buttons div {\n",
              "      margin-bottom: 4px;\n",
              "    }\n",
              "\n",
              "    [theme=dark] .colab-df-convert {\n",
              "      background-color: #3B4455;\n",
              "      fill: #D2E3FC;\n",
              "    }\n",
              "\n",
              "    [theme=dark] .colab-df-convert:hover {\n",
              "      background-color: #434B5C;\n",
              "      box-shadow: 0px 1px 3px 1px rgba(0, 0, 0, 0.15);\n",
              "      filter: drop-shadow(0px 1px 2px rgba(0, 0, 0, 0.3));\n",
              "      fill: #FFFFFF;\n",
              "    }\n",
              "  </style>\n",
              "\n",
              "    <script>\n",
              "      const buttonEl =\n",
              "        document.querySelector('#df-9477d5eb-db04-4230-bcf0-231358fe479d button.colab-df-convert');\n",
              "      buttonEl.style.display =\n",
              "        google.colab.kernel.accessAllowed ? 'block' : 'none';\n",
              "\n",
              "      async function convertToInteractive(key) {\n",
              "        const element = document.querySelector('#df-9477d5eb-db04-4230-bcf0-231358fe479d');\n",
              "        const dataTable =\n",
              "          await google.colab.kernel.invokeFunction('convertToInteractive',\n",
              "                                                    [key], {});\n",
              "        if (!dataTable) return;\n",
              "\n",
              "        const docLinkHtml = 'Like what you see? Visit the ' +\n",
              "          '<a target=\"_blank\" href=https://colab.research.google.com/notebooks/data_table.ipynb>data table notebook</a>'\n",
              "          + ' to learn more about interactive tables.';\n",
              "        element.innerHTML = '';\n",
              "        dataTable['output_type'] = 'display_data';\n",
              "        await google.colab.output.renderOutput(dataTable, element);\n",
              "        const docLink = document.createElement('div');\n",
              "        docLink.innerHTML = docLinkHtml;\n",
              "        element.appendChild(docLink);\n",
              "      }\n",
              "    </script>\n",
              "  </div>\n",
              "\n",
              "\n",
              "<div id=\"df-b4d00347-ff7c-4cf9-a7b7-6341615b1793\">\n",
              "  <button class=\"colab-df-quickchart\" onclick=\"quickchart('df-b4d00347-ff7c-4cf9-a7b7-6341615b1793')\"\n",
              "            title=\"Suggest charts\"\n",
              "            style=\"display:none;\">\n",
              "\n",
              "<svg xmlns=\"http://www.w3.org/2000/svg\" height=\"24px\"viewBox=\"0 0 24 24\"\n",
              "     width=\"24px\">\n",
              "    <g>\n",
              "        <path d=\"M19 3H5c-1.1 0-2 .9-2 2v14c0 1.1.9 2 2 2h14c1.1 0 2-.9 2-2V5c0-1.1-.9-2-2-2zM9 17H7v-7h2v7zm4 0h-2V7h2v10zm4 0h-2v-4h2v4z\"/>\n",
              "    </g>\n",
              "</svg>\n",
              "  </button>\n",
              "\n",
              "<style>\n",
              "  .colab-df-quickchart {\n",
              "      --bg-color: #E8F0FE;\n",
              "      --fill-color: #1967D2;\n",
              "      --hover-bg-color: #E2EBFA;\n",
              "      --hover-fill-color: #174EA6;\n",
              "      --disabled-fill-color: #AAA;\n",
              "      --disabled-bg-color: #DDD;\n",
              "  }\n",
              "\n",
              "  [theme=dark] .colab-df-quickchart {\n",
              "      --bg-color: #3B4455;\n",
              "      --fill-color: #D2E3FC;\n",
              "      --hover-bg-color: #434B5C;\n",
              "      --hover-fill-color: #FFFFFF;\n",
              "      --disabled-bg-color: #3B4455;\n",
              "      --disabled-fill-color: #666;\n",
              "  }\n",
              "\n",
              "  .colab-df-quickchart {\n",
              "    background-color: var(--bg-color);\n",
              "    border: none;\n",
              "    border-radius: 50%;\n",
              "    cursor: pointer;\n",
              "    display: none;\n",
              "    fill: var(--fill-color);\n",
              "    height: 32px;\n",
              "    padding: 0;\n",
              "    width: 32px;\n",
              "  }\n",
              "\n",
              "  .colab-df-quickchart:hover {\n",
              "    background-color: var(--hover-bg-color);\n",
              "    box-shadow: 0 1px 2px rgba(60, 64, 67, 0.3), 0 1px 3px 1px rgba(60, 64, 67, 0.15);\n",
              "    fill: var(--button-hover-fill-color);\n",
              "  }\n",
              "\n",
              "  .colab-df-quickchart-complete:disabled,\n",
              "  .colab-df-quickchart-complete:disabled:hover {\n",
              "    background-color: var(--disabled-bg-color);\n",
              "    fill: var(--disabled-fill-color);\n",
              "    box-shadow: none;\n",
              "  }\n",
              "\n",
              "  .colab-df-spinner {\n",
              "    border: 2px solid var(--fill-color);\n",
              "    border-color: transparent;\n",
              "    border-bottom-color: var(--fill-color);\n",
              "    animation:\n",
              "      spin 1s steps(1) infinite;\n",
              "  }\n",
              "\n",
              "  @keyframes spin {\n",
              "    0% {\n",
              "      border-color: transparent;\n",
              "      border-bottom-color: var(--fill-color);\n",
              "      border-left-color: var(--fill-color);\n",
              "    }\n",
              "    20% {\n",
              "      border-color: transparent;\n",
              "      border-left-color: var(--fill-color);\n",
              "      border-top-color: var(--fill-color);\n",
              "    }\n",
              "    30% {\n",
              "      border-color: transparent;\n",
              "      border-left-color: var(--fill-color);\n",
              "      border-top-color: var(--fill-color);\n",
              "      border-right-color: var(--fill-color);\n",
              "    }\n",
              "    40% {\n",
              "      border-color: transparent;\n",
              "      border-right-color: var(--fill-color);\n",
              "      border-top-color: var(--fill-color);\n",
              "    }\n",
              "    60% {\n",
              "      border-color: transparent;\n",
              "      border-right-color: var(--fill-color);\n",
              "    }\n",
              "    80% {\n",
              "      border-color: transparent;\n",
              "      border-right-color: var(--fill-color);\n",
              "      border-bottom-color: var(--fill-color);\n",
              "    }\n",
              "    90% {\n",
              "      border-color: transparent;\n",
              "      border-bottom-color: var(--fill-color);\n",
              "    }\n",
              "  }\n",
              "</style>\n",
              "\n",
              "  <script>\n",
              "    async function quickchart(key) {\n",
              "      const quickchartButtonEl =\n",
              "        document.querySelector('#' + key + ' button');\n",
              "      quickchartButtonEl.disabled = true;  // To prevent multiple clicks.\n",
              "      quickchartButtonEl.classList.add('colab-df-spinner');\n",
              "      try {\n",
              "        const charts = await google.colab.kernel.invokeFunction(\n",
              "            'suggestCharts', [key], {});\n",
              "      } catch (error) {\n",
              "        console.error('Error during call to suggestCharts:', error);\n",
              "      }\n",
              "      quickchartButtonEl.classList.remove('colab-df-spinner');\n",
              "      quickchartButtonEl.classList.add('colab-df-quickchart-complete');\n",
              "    }\n",
              "    (() => {\n",
              "      let quickchartButtonEl =\n",
              "        document.querySelector('#df-b4d00347-ff7c-4cf9-a7b7-6341615b1793 button');\n",
              "      quickchartButtonEl.style.display =\n",
              "        google.colab.kernel.accessAllowed ? 'block' : 'none';\n",
              "    })();\n",
              "  </script>\n",
              "</div>\n",
              "    </div>\n",
              "  </div>\n"
            ],
            "application/vnd.google.colaboratory.intrinsic+json": {
              "type": "dataframe",
              "variable_name": "df",
              "summary": "{\n  \"name\": \"df\",\n  \"rows\": 81,\n  \"fields\": [\n    {\n      \"column\": \"Kyphosis\",\n      \"properties\": {\n        \"dtype\": \"number\",\n        \"std\": 0,\n        \"min\": 0,\n        \"max\": 1,\n        \"samples\": [\n          1,\n          0\n        ],\n        \"num_unique_values\": 2,\n        \"semantic_type\": \"\",\n        \"description\": \"\"\n      }\n    },\n    {\n      \"column\": \"Age\",\n      \"properties\": {\n        \"dtype\": \"number\",\n        \"std\": 58,\n        \"min\": 1,\n        \"max\": 206,\n        \"samples\": [\n          17,\n          11\n        ],\n        \"num_unique_values\": 64,\n        \"semantic_type\": \"\",\n        \"description\": \"\"\n      }\n    },\n    {\n      \"column\": \"Number\",\n      \"properties\": {\n        \"dtype\": \"number\",\n        \"std\": 1,\n        \"min\": 2,\n        \"max\": 10,\n        \"samples\": [\n          4,\n          7\n        ],\n        \"num_unique_values\": 8,\n        \"semantic_type\": \"\",\n        \"description\": \"\"\n      }\n    },\n    {\n      \"column\": \"Start\",\n      \"properties\": {\n        \"dtype\": \"number\",\n        \"std\": 4,\n        \"min\": 1,\n        \"max\": 18,\n        \"samples\": [\n          5,\n          14\n        ],\n        \"num_unique_values\": 16,\n        \"semantic_type\": \"\",\n        \"description\": \"\"\n      }\n    }\n  ]\n}"
            }
          },
          "metadata": {},
          "execution_count": 39
        }
      ]
    },
    {
      "cell_type": "code",
      "source": [
        "X = df.iloc[:, 1:].values\n",
        "y = df[\"Kyphosis\"].values"
      ],
      "metadata": {
        "id": "d2cqFvje_Yk4"
      },
      "id": "d2cqFvje_Yk4",
      "execution_count": null,
      "outputs": []
    },
    {
      "cell_type": "code",
      "source": [
        "X"
      ],
      "metadata": {
        "colab": {
          "base_uri": "https://localhost:8080/"
        },
        "id": "hg7blL5R_djR",
        "outputId": "4c2855c7-4084-43b9-9491-279075420415"
      },
      "id": "hg7blL5R_djR",
      "execution_count": null,
      "outputs": [
        {
          "output_type": "execute_result",
          "data": {
            "text/plain": [
              "array([[ 71,   3,   5],\n",
              "       [158,   3,  14],\n",
              "       [128,   4,   5],\n",
              "       [  2,   5,   1],\n",
              "       [  1,   4,  15],\n",
              "       [  1,   2,  16],\n",
              "       [ 61,   2,  17],\n",
              "       [ 37,   3,  16],\n",
              "       [113,   2,  16],\n",
              "       [ 59,   6,  12],\n",
              "       [ 82,   5,  14],\n",
              "       [148,   3,  16],\n",
              "       [ 18,   5,   2],\n",
              "       [  1,   4,  12],\n",
              "       [168,   3,  18],\n",
              "       [  1,   3,  16],\n",
              "       [ 78,   6,  15],\n",
              "       [175,   5,  13],\n",
              "       [ 80,   5,  16],\n",
              "       [ 27,   4,   9],\n",
              "       [ 22,   2,  16],\n",
              "       [105,   6,   5],\n",
              "       [ 96,   3,  12],\n",
              "       [131,   2,   3],\n",
              "       [ 15,   7,   2],\n",
              "       [  9,   5,  13],\n",
              "       [  8,   3,   6],\n",
              "       [100,   3,  14],\n",
              "       [  4,   3,  16],\n",
              "       [151,   2,  16],\n",
              "       [ 31,   3,  16],\n",
              "       [125,   2,  11],\n",
              "       [130,   5,  13],\n",
              "       [112,   3,  16],\n",
              "       [140,   5,  11],\n",
              "       [ 93,   3,  16],\n",
              "       [  1,   3,   9],\n",
              "       [ 52,   5,   6],\n",
              "       [ 20,   6,   9],\n",
              "       [ 91,   5,  12],\n",
              "       [ 73,   5,   1],\n",
              "       [ 35,   3,  13],\n",
              "       [143,   9,   3],\n",
              "       [ 61,   4,   1],\n",
              "       [ 97,   3,  16],\n",
              "       [139,   3,  10],\n",
              "       [136,   4,  15],\n",
              "       [131,   5,  13],\n",
              "       [121,   3,   3],\n",
              "       [177,   2,  14],\n",
              "       [ 68,   5,  10],\n",
              "       [  9,   2,  17],\n",
              "       [139,  10,   6],\n",
              "       [  2,   2,  17],\n",
              "       [140,   4,  15],\n",
              "       [ 72,   5,  15],\n",
              "       [  2,   3,  13],\n",
              "       [120,   5,   8],\n",
              "       [ 51,   7,   9],\n",
              "       [102,   3,  13],\n",
              "       [130,   4,   1],\n",
              "       [114,   7,   8],\n",
              "       [ 81,   4,   1],\n",
              "       [118,   3,  16],\n",
              "       [118,   4,  16],\n",
              "       [ 17,   4,  10],\n",
              "       [195,   2,  17],\n",
              "       [159,   4,  13],\n",
              "       [ 18,   4,  11],\n",
              "       [ 15,   5,  16],\n",
              "       [158,   5,  14],\n",
              "       [127,   4,  12],\n",
              "       [ 87,   4,  16],\n",
              "       [206,   4,  10],\n",
              "       [ 11,   3,  15],\n",
              "       [178,   4,  15],\n",
              "       [157,   3,  13],\n",
              "       [ 26,   7,  13],\n",
              "       [120,   2,  13],\n",
              "       [ 42,   7,   6],\n",
              "       [ 36,   4,  13]])"
            ]
          },
          "metadata": {},
          "execution_count": 42
        }
      ]
    },
    {
      "cell_type": "code",
      "source": [
        "X_train, X_test, y_train, y_test = train_test_split(X, y, test_size=0.25, random_state=11111)"
      ],
      "metadata": {
        "id": "BdV_bdlW_bzp"
      },
      "id": "BdV_bdlW_bzp",
      "execution_count": null,
      "outputs": []
    },
    {
      "cell_type": "code",
      "source": [
        "np.mean(y), np.mean(1-y)"
      ],
      "metadata": {
        "colab": {
          "base_uri": "https://localhost:8080/"
        },
        "id": "BVK2rViF_ylp",
        "outputId": "0d1c5206-812f-482e-d382-1159fa94b948"
      },
      "id": "BVK2rViF_ylp",
      "execution_count": null,
      "outputs": [
        {
          "output_type": "execute_result",
          "data": {
            "text/plain": [
              "(0.20987654320987653, 0.7901234567901234)"
            ]
          },
          "metadata": {},
          "execution_count": 46
        }
      ]
    },
    {
      "cell_type": "code",
      "source": [
        "normalizer = StandardScaler()\n",
        "X_train_norm = normalizer.fit_transform(X_train)\n",
        "X_test_norm = normalizer.transform(X_test)"
      ],
      "metadata": {
        "id": "gKDLUiTv_6CL"
      },
      "id": "gKDLUiTv_6CL",
      "execution_count": null,
      "outputs": []
    },
    {
      "cell_type": "code",
      "source": [
        "\n",
        "model1 = Sequential()\n",
        "model1.add(Dense(400, activation='relu', input_shape=(3,)))\n",
        "model1.add(Dropout(0.4))\n",
        "model1.add(Dense(300, activation='relu'))\n",
        "model1.add(Dropout(0.4))\n",
        "model1.add(Dense(1, activation='sigmoid'))\n",
        "\n",
        "\n",
        "\n",
        "learning_rate = .001\n",
        "model1.compile(loss='binary_crossentropy',\n",
        "              optimizer=RMSprop(lr=learning_rate),\n",
        "              metrics=['accuracy'])\n",
        "batch_size = 128  # mini-batch with 128 examples\n",
        "epochs = 30\n",
        "history = model1.fit(\n",
        "    X_train_norm, y_train,\n",
        "    batch_size=batch_size,\n",
        "    epochs=epochs,\n",
        "    verbose=1,\n",
        "    validation_data=(X_test_norm, y_test))"
      ],
      "metadata": {
        "colab": {
          "base_uri": "https://localhost:8080/"
        },
        "id": "PEOceoI1BFya",
        "outputId": "0e8a5913-4d44-450d-dd3f-61a5c6fafcf2"
      },
      "id": "PEOceoI1BFya",
      "execution_count": null,
      "outputs": [
        {
          "output_type": "stream",
          "name": "stderr",
          "text": [
            "WARNING:absl:`lr` is deprecated in Keras optimizer, please use `learning_rate` or use the legacy optimizer, e.g.,tf.keras.optimizers.legacy.RMSprop.\n"
          ]
        },
        {
          "output_type": "stream",
          "name": "stdout",
          "text": [
            "Epoch 1/30\n",
            "1/1 [==============================] - 1s 885ms/step - loss: 0.6805 - accuracy: 0.4667 - val_loss: 0.5965 - val_accuracy: 0.7143\n",
            "Epoch 2/30\n",
            "1/1 [==============================] - 0s 43ms/step - loss: 0.5654 - accuracy: 0.8500 - val_loss: 0.5580 - val_accuracy: 0.7143\n",
            "Epoch 3/30\n",
            "1/1 [==============================] - 0s 41ms/step - loss: 0.5060 - accuracy: 0.8167 - val_loss: 0.5283 - val_accuracy: 0.7143\n",
            "Epoch 4/30\n",
            "1/1 [==============================] - 0s 40ms/step - loss: 0.4755 - accuracy: 0.8167 - val_loss: 0.4984 - val_accuracy: 0.7143\n",
            "Epoch 5/30\n",
            "1/1 [==============================] - 0s 42ms/step - loss: 0.4167 - accuracy: 0.8167 - val_loss: 0.4776 - val_accuracy: 0.7143\n",
            "Epoch 6/30\n",
            "1/1 [==============================] - 0s 42ms/step - loss: 0.4016 - accuracy: 0.8333 - val_loss: 0.4608 - val_accuracy: 0.7619\n",
            "Epoch 7/30\n",
            "1/1 [==============================] - 0s 40ms/step - loss: 0.3918 - accuracy: 0.8333 - val_loss: 0.4486 - val_accuracy: 0.7619\n",
            "Epoch 8/30\n",
            "1/1 [==============================] - 0s 48ms/step - loss: 0.3698 - accuracy: 0.8167 - val_loss: 0.4326 - val_accuracy: 0.7619\n",
            "Epoch 9/30\n",
            "1/1 [==============================] - 0s 48ms/step - loss: 0.3517 - accuracy: 0.8667 - val_loss: 0.4258 - val_accuracy: 0.7619\n",
            "Epoch 10/30\n",
            "1/1 [==============================] - 0s 47ms/step - loss: 0.3469 - accuracy: 0.8500 - val_loss: 0.4196 - val_accuracy: 0.7619\n",
            "Epoch 11/30\n",
            "1/1 [==============================] - 0s 45ms/step - loss: 0.3267 - accuracy: 0.8500 - val_loss: 0.4191 - val_accuracy: 0.7619\n",
            "Epoch 12/30\n",
            "1/1 [==============================] - 0s 43ms/step - loss: 0.3234 - accuracy: 0.8667 - val_loss: 0.4129 - val_accuracy: 0.7619\n",
            "Epoch 13/30\n",
            "1/1 [==============================] - 0s 42ms/step - loss: 0.3227 - accuracy: 0.8667 - val_loss: 0.4113 - val_accuracy: 0.7619\n",
            "Epoch 14/30\n",
            "1/1 [==============================] - 0s 53ms/step - loss: 0.3238 - accuracy: 0.8167 - val_loss: 0.4052 - val_accuracy: 0.7619\n",
            "Epoch 15/30\n",
            "1/1 [==============================] - 0s 43ms/step - loss: 0.3184 - accuracy: 0.8000 - val_loss: 0.3961 - val_accuracy: 0.7619\n",
            "Epoch 16/30\n",
            "1/1 [==============================] - 0s 41ms/step - loss: 0.3058 - accuracy: 0.8500 - val_loss: 0.3939 - val_accuracy: 0.7619\n",
            "Epoch 17/30\n",
            "1/1 [==============================] - 0s 41ms/step - loss: 0.3073 - accuracy: 0.8833 - val_loss: 0.3900 - val_accuracy: 0.7619\n",
            "Epoch 18/30\n",
            "1/1 [==============================] - 0s 47ms/step - loss: 0.2779 - accuracy: 0.8667 - val_loss: 0.3844 - val_accuracy: 0.8095\n",
            "Epoch 19/30\n",
            "1/1 [==============================] - 0s 43ms/step - loss: 0.3039 - accuracy: 0.8667 - val_loss: 0.3819 - val_accuracy: 0.8095\n",
            "Epoch 20/30\n",
            "1/1 [==============================] - 0s 51ms/step - loss: 0.2921 - accuracy: 0.8667 - val_loss: 0.3765 - val_accuracy: 0.8571\n",
            "Epoch 21/30\n",
            "1/1 [==============================] - 0s 43ms/step - loss: 0.3017 - accuracy: 0.8667 - val_loss: 0.3752 - val_accuracy: 0.8571\n",
            "Epoch 22/30\n",
            "1/1 [==============================] - 0s 49ms/step - loss: 0.2983 - accuracy: 0.8667 - val_loss: 0.3750 - val_accuracy: 0.8571\n",
            "Epoch 23/30\n",
            "1/1 [==============================] - 0s 43ms/step - loss: 0.2878 - accuracy: 0.8667 - val_loss: 0.3748 - val_accuracy: 0.8571\n",
            "Epoch 24/30\n",
            "1/1 [==============================] - 0s 41ms/step - loss: 0.3083 - accuracy: 0.8667 - val_loss: 0.3689 - val_accuracy: 0.8571\n",
            "Epoch 25/30\n",
            "1/1 [==============================] - 0s 41ms/step - loss: 0.2845 - accuracy: 0.8667 - val_loss: 0.3694 - val_accuracy: 0.8571\n",
            "Epoch 26/30\n",
            "1/1 [==============================] - 0s 44ms/step - loss: 0.2936 - accuracy: 0.9000 - val_loss: 0.3687 - val_accuracy: 0.8571\n",
            "Epoch 27/30\n",
            "1/1 [==============================] - 0s 58ms/step - loss: 0.2741 - accuracy: 0.8833 - val_loss: 0.3657 - val_accuracy: 0.8571\n",
            "Epoch 28/30\n",
            "1/1 [==============================] - 0s 40ms/step - loss: 0.2782 - accuracy: 0.8667 - val_loss: 0.3619 - val_accuracy: 0.8571\n",
            "Epoch 29/30\n",
            "1/1 [==============================] - 0s 46ms/step - loss: 0.2828 - accuracy: 0.8833 - val_loss: 0.3603 - val_accuracy: 0.8571\n",
            "Epoch 30/30\n",
            "1/1 [==============================] - 0s 43ms/step - loss: 0.2622 - accuracy: 0.8667 - val_loss: 0.3592 - val_accuracy: 0.8571\n"
          ]
        }
      ]
    },
    {
      "cell_type": "code",
      "source": [
        "\n",
        "score = model1.evaluate(X_test_norm, y_test, verbose=0)\n",
        "print('Test loss:', score[0])\n",
        "print('Test accuracy:', score[1])"
      ],
      "metadata": {
        "colab": {
          "base_uri": "https://localhost:8080/"
        },
        "id": "XmPDUylAJY3J",
        "outputId": "4682989c-a6f3-4bfa-fa49-03ae9e40700f"
      },
      "id": "XmPDUylAJY3J",
      "execution_count": null,
      "outputs": [
        {
          "output_type": "stream",
          "name": "stdout",
          "text": [
            "Test loss: 0.35920023918151855\n",
            "Test accuracy: 0.8571428656578064\n"
          ]
        }
      ]
    },
    {
      "cell_type": "code",
      "source": [
        "def plot_loss_accuracy(history):\n",
        "    fig = plt.figure(figsize=(12, 6))\n",
        "    ax = fig.add_subplot(1, 2, 1)\n",
        "    ax.plot(history.history[\"loss\"],'r-x', label=\"Train Loss\")\n",
        "    ax.plot(history.history[\"val_loss\"],'b-x', label=\"Validation Loss\")\n",
        "    ax.legend()\n",
        "    ax.set_title('cross_entropy loss')\n",
        "    ax.grid(True)\n",
        "    plt.xlabel(\"Probability\")\n",
        "    plt.ylabel(\"Loss\")\n",
        "\n",
        "\n",
        "    ax = fig.add_subplot(1, 2, 2)\n",
        "    ax.plot(history.history[\"accuracy\"],'r-x', label=\"Train Accuracy\")\n",
        "    ax.plot(history.history[\"val_accuracy\"],'b-x', label=\"Validation Accuracy\")\n",
        "    ax.legend()\n",
        "    ax.set_title('accuracy')\n",
        "    ax.grid(True)\n",
        "    plt.xlabel(\"Epoch\")\n",
        "    plt.ylabel(\"Accuracy\")\n",
        "\n",
        "\n",
        "plot_loss_accuracy(history)"
      ],
      "metadata": {
        "colab": {
          "base_uri": "https://localhost:8080/",
          "height": 564
        },
        "id": "h5ZMrmaSJcL5",
        "outputId": "c3075aaf-b8dc-4e7d-d1bf-7d65e85330f6"
      },
      "id": "h5ZMrmaSJcL5",
      "execution_count": null,
      "outputs": [
        {
          "output_type": "display_data",
          "data": {
            "text/plain": [
              "<Figure size 1200x600 with 2 Axes>"
            ],
            "image/png": "[encoded data removed]"
          },
          "metadata": {}
        }
      ]
    },
    {
      "cell_type": "code",
      "source": [
        "model2 = Sequential()\n",
        "model2.add(Dense(400, activation='relu',kernel_regularizer=keras.regularizers.L1(0.01), input_shape=(3,)))\n",
        "model2.add(Dropout(0.4))\n",
        "model2.add(Dense(300, kernel_regularizer=keras.regularizers.L2(0.001),activation='relu'))\n",
        "model2.add(Dropout(0.4))\n",
        "model2.add(Dense(1, activation='sigmoid'))\n",
        "\n",
        "\n",
        "\n",
        "learning_rate = .001\n",
        "model2.compile(loss='binary_crossentropy',\n",
        "              optimizer=RMSprop(learning_rate=learning_rate),\n",
        "              metrics=['accuracy'])\n",
        "batch_size = 128  # mini-batch with 128 examples\n",
        "epochs = 30\n",
        "history = model2.fit(\n",
        "    X_train_norm, y_train,\n",
        "    batch_size=batch_size,\n",
        "    epochs=epochs,\n",
        "    verbose=1,\n",
        "    validation_data=(X_test_norm, y_test))\n",
        "\n",
        "\n",
        "score = model2.evaluate(X_test_norm, y_test, verbose=0)\n",
        "print('Test loss:', score[0])\n",
        "print('Test accuracy:', score[1])\n",
        "\n",
        "\n",
        "plot_loss_accuracy(history)"
      ],
      "metadata": {
        "colab": {
          "base_uri": "https://localhost:8080/",
          "height": 1000
        },
        "id": "MAzFwd2vL71x",
        "outputId": "1ecc349b-799e-4f4e-a8ab-3aab10de9c5c"
      },
      "id": "MAzFwd2vL71x",
      "execution_count": null,
      "outputs": [
        {
          "output_type": "stream",
          "name": "stdout",
          "text": [
            "Epoch 1/30\n",
            "1/1 [==============================] - 1s 1s/step - loss: 1.7736 - accuracy: 0.5167 - val_loss: 1.6455 - val_accuracy: 0.7143\n",
            "Epoch 2/30\n",
            "1/1 [==============================] - 0s 86ms/step - loss: 1.6209 - accuracy: 0.8167 - val_loss: 1.5812 - val_accuracy: 0.7143\n",
            "Epoch 3/30\n",
            "1/1 [==============================] - 0s 60ms/step - loss: 1.5275 - accuracy: 0.8167 - val_loss: 1.5358 - val_accuracy: 0.7143\n",
            "Epoch 4/30\n",
            "1/1 [==============================] - 0s 87ms/step - loss: 1.4638 - accuracy: 0.8333 - val_loss: 1.4986 - val_accuracy: 0.7143\n",
            "Epoch 5/30\n",
            "1/1 [==============================] - 0s 54ms/step - loss: 1.4169 - accuracy: 0.8167 - val_loss: 1.4650 - val_accuracy: 0.7143\n",
            "Epoch 6/30\n",
            "1/1 [==============================] - 0s 78ms/step - loss: 1.3794 - accuracy: 0.8167 - val_loss: 1.4348 - val_accuracy: 0.7143\n",
            "Epoch 7/30\n",
            "1/1 [==============================] - 0s 74ms/step - loss: 1.3539 - accuracy: 0.8167 - val_loss: 1.4062 - val_accuracy: 0.7143\n",
            "Epoch 8/30\n",
            "1/1 [==============================] - 0s 81ms/step - loss: 1.3150 - accuracy: 0.8000 - val_loss: 1.3797 - val_accuracy: 0.7143\n",
            "Epoch 9/30\n",
            "1/1 [==============================] - 0s 50ms/step - loss: 1.3009 - accuracy: 0.8000 - val_loss: 1.3586 - val_accuracy: 0.7619\n",
            "Epoch 10/30\n",
            "1/1 [==============================] - 0s 72ms/step - loss: 1.2765 - accuracy: 0.8167 - val_loss: 1.3391 - val_accuracy: 0.7619\n",
            "Epoch 11/30\n",
            "1/1 [==============================] - 0s 71ms/step - loss: 1.2522 - accuracy: 0.8167 - val_loss: 1.3203 - val_accuracy: 0.7619\n",
            "Epoch 12/30\n",
            "1/1 [==============================] - 0s 53ms/step - loss: 1.2269 - accuracy: 0.8000 - val_loss: 1.3025 - val_accuracy: 0.7619\n",
            "Epoch 13/30\n",
            "1/1 [==============================] - 0s 53ms/step - loss: 1.2275 - accuracy: 0.8167 - val_loss: 1.2824 - val_accuracy: 0.7619\n",
            "Epoch 14/30\n",
            "1/1 [==============================] - 0s 69ms/step - loss: 1.1846 - accuracy: 0.8333 - val_loss: 1.2654 - val_accuracy: 0.7619\n",
            "Epoch 15/30\n",
            "1/1 [==============================] - 0s 52ms/step - loss: 1.1736 - accuracy: 0.8333 - val_loss: 1.2488 - val_accuracy: 0.7619\n",
            "Epoch 16/30\n",
            "1/1 [==============================] - 0s 70ms/step - loss: 1.1501 - accuracy: 0.8333 - val_loss: 1.2349 - val_accuracy: 0.7619\n",
            "Epoch 17/30\n",
            "1/1 [==============================] - 0s 84ms/step - loss: 1.1341 - accuracy: 0.8500 - val_loss: 1.2209 - val_accuracy: 0.7619\n",
            "Epoch 18/30\n",
            "1/1 [==============================] - 0s 56ms/step - loss: 1.1332 - accuracy: 0.8167 - val_loss: 1.2072 - val_accuracy: 0.7619\n",
            "Epoch 19/30\n",
            "1/1 [==============================] - 0s 78ms/step - loss: 1.1040 - accuracy: 0.8333 - val_loss: 1.1964 - val_accuracy: 0.7619\n",
            "Epoch 20/30\n",
            "1/1 [==============================] - 0s 78ms/step - loss: 1.1026 - accuracy: 0.8500 - val_loss: 1.1844 - val_accuracy: 0.7619\n",
            "Epoch 21/30\n",
            "1/1 [==============================] - 0s 57ms/step - loss: 1.0905 - accuracy: 0.8500 - val_loss: 1.1715 - val_accuracy: 0.7619\n",
            "Epoch 22/30\n",
            "1/1 [==============================] - 0s 69ms/step - loss: 1.0928 - accuracy: 0.8167 - val_loss: 1.1580 - val_accuracy: 0.7619\n",
            "Epoch 23/30\n",
            "1/1 [==============================] - 0s 60ms/step - loss: 1.0576 - accuracy: 0.8500 - val_loss: 1.1447 - val_accuracy: 0.7619\n",
            "Epoch 24/30\n",
            "1/1 [==============================] - 0s 66ms/step - loss: 1.0513 - accuracy: 0.8500 - val_loss: 1.1313 - val_accuracy: 0.7619\n",
            "Epoch 25/30\n",
            "1/1 [==============================] - 0s 87ms/step - loss: 1.0416 - accuracy: 0.8500 - val_loss: 1.1207 - val_accuracy: 0.7619\n",
            "Epoch 26/30\n",
            "1/1 [==============================] - 0s 77ms/step - loss: 1.0226 - accuracy: 0.8500 - val_loss: 1.1094 - val_accuracy: 0.7619\n",
            "Epoch 27/30\n",
            "1/1 [==============================] - 0s 81ms/step - loss: 1.0121 - accuracy: 0.8500 - val_loss: 1.0985 - val_accuracy: 0.7619\n",
            "Epoch 28/30\n",
            "1/1 [==============================] - 0s 82ms/step - loss: 0.9976 - accuracy: 0.8333 - val_loss: 1.0875 - val_accuracy: 0.7619\n",
            "Epoch 29/30\n",
            "1/1 [==============================] - 0s 77ms/step - loss: 0.9998 - accuracy: 0.8333 - val_loss: 1.0735 - val_accuracy: 0.7619\n",
            "Epoch 30/30\n",
            "1/1 [==============================] - 0s 79ms/step - loss: 0.9797 - accuracy: 0.8667 - val_loss: 1.0618 - val_accuracy: 0.7619\n",
            "Test loss: 1.061784029006958\n",
            "Test accuracy: 0.761904776096344\n"
          ]
        },
        {
          "output_type": "display_data",
          "data": {
            "text/plain": [
              "<Figure size 1200x600 with 2 Axes>"
            ],
            "image/png": "[encoded data removed]"
          },
          "metadata": {}
        }
      ]
    },
    {
      "cell_type": "markdown",
      "id": "classified-campaign",
      "metadata": {
        "id": "classified-campaign"
      },
      "source": [
        "#### Conclusion"
      ]
    },
    {
      "cell_type": "markdown",
      "id": "relevant-thunder",
      "metadata": {
        "id": "relevant-thunder"
      },
      "source": [
        "The model1 is have Dropout for regularization while model2 have additional L1 and L2 regularization. model1 performed better with accuracy of 85.7% while model2 only have 76.2%."
      ]
    },
    {
      "cell_type": "markdown",
      "source": [
        "# Google Collab Link:"
      ],
      "metadata": {
        "id": "EcLhYOv7WJV_"
      },
      "id": "EcLhYOv7WJV_"
    },
    {
      "cell_type": "markdown",
      "source": [
        "https://colab.research.google.com/drive/1I1rsOuG61o3_TT777V1xZCG9-A4QYa_4?usp=sharing"
      ],
      "metadata": {
        "id": "6dFeYx9oWJzj"
      },
      "id": "6dFeYx9oWJzj"
    },
    {
      "cell_type": "markdown",
      "source": [],
      "metadata": {
        "id": "E-SRM1VtSDUB"
      },
      "id": "E-SRM1VtSDUB"
    },
    {
      "cell_type": "markdown",
      "source": [],
      "metadata": {
        "id": "kJ7S-21SSDWw"
      },
      "id": "kJ7S-21SSDWw"
    },
    {
      "cell_type": "markdown",
      "source": [],
      "metadata": {
        "id": "sfo8ChMdSDaK"
      },
      "id": "sfo8ChMdSDaK"
    },
    {
      "cell_type": "markdown",
      "source": [],
      "metadata": {
        "id": "q9yXKaRcSDc5"
      },
      "id": "q9yXKaRcSDc5"
    }
  ],
  "metadata": {
    "kernelspec": {
      "display_name": "Python 3",
      "language": "python",
      "name": "python3"
    },
    "language_info": {
      "codemirror_mode": {
        "name": "ipython",
        "version": 3
      },
      "file_extension": ".py",
      "mimetype": "text/x-python",
      "name": "python",
      "nbconvert_exporter": "python",
      "pygments_lexer": "ipython3",
      "version": "3.7.10"
    },
    "colab": {
      "provenance": []
    }
  },
  "nbformat": 4,
  "nbformat_minor": 5
}