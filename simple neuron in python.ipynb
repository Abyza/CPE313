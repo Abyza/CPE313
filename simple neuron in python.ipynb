{
  "nbformat": 4,
  "nbformat_minor": 0,
  "metadata": {
    "colab": {
      "provenance": []
    },
    "kernelspec": {
      "name": "python3",
      "display_name": "Python 3"
    },
    "language_info": {
      "name": "python"
    }
  },
  "cells": [
    {
      "cell_type": "code",
      "execution_count": 1,
      "metadata": {
        "id": "WTPqMQKpIe0m"
      },
      "outputs": [],
      "source": [
        "class neuron:\n",
        "  def __init__(self, w1, w2, i1, i2):\n",
        "    self.w1 = w1\n",
        "    self.w2 = w2\n",
        "    self.i1 = i1\n",
        "    self.i2 = i2\n",
        "    self.added = self.adder(w1,w2,i1,i2)\n",
        "\n",
        "  def adder(self,w1,w2,i1,i2):\n",
        "    print(w1 * i1 + w2 * i2)\n",
        "    return w1 * i1 + w2 * i2\n",
        "\n",
        "  def relu(self):\n",
        "    print(self.added * (self.added > 0))\n"
      ]
    },
    {
      "cell_type": "code",
      "source": [
        "neuron1 = neuron(2,-5,2,2)"
      ],
      "metadata": {
        "colab": {
          "base_uri": "https://localhost:8080/"
        },
        "id": "cDNHLcMZSEC-",
        "outputId": "94b35f15-92ff-4a41-cbae-48a1dc26d15a"
      },
      "execution_count": 2,
      "outputs": [
        {
          "output_type": "stream",
          "name": "stdout",
          "text": [
            "-6\n"
          ]
        }
      ]
    },
    {
      "cell_type": "code",
      "source": [
        "neuron1.relu()"
      ],
      "metadata": {
        "colab": {
          "base_uri": "https://localhost:8080/"
        },
        "id": "117jJ_bUWjw1",
        "outputId": "b43bf030-eae8-4aa6-f977-924d758bf6ad"
      },
      "execution_count": 3,
      "outputs": [
        {
          "output_type": "stream",
          "name": "stdout",
          "text": [
            "0\n"
          ]
        }
      ]
    },
    {
      "cell_type": "code",
      "source": [
        "neuron2 = neuron(2,5,2,2)"
      ],
      "metadata": {
        "colab": {
          "base_uri": "https://localhost:8080/"
        },
        "id": "Hrh4BHJHZgps",
        "outputId": "2e88d5f3-e646-4d6c-ec6f-352d61793fde"
      },
      "execution_count": 4,
      "outputs": [
        {
          "output_type": "stream",
          "name": "stdout",
          "text": [
            "14\n"
          ]
        }
      ]
    },
    {
      "cell_type": "code",
      "source": [
        "neuron2.relu()"
      ],
      "metadata": {
        "colab": {
          "base_uri": "https://localhost:8080/"
        },
        "id": "uCi5u9AgZjlz",
        "outputId": "3666bce1-1bdb-402f-f7cb-bd9c1f5d1c7b"
      },
      "execution_count": 5,
      "outputs": [
        {
          "output_type": "stream",
          "name": "stdout",
          "text": [
            "14\n"
          ]
        }
      ]
    }
  ]
}