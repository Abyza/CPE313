{
  "nbformat": 4,
  "nbformat_minor": 0,
  "metadata": {
    "colab": {
      "provenance": []
    },
    "kernelspec": {
      "name": "python3",
      "display_name": "Python 3"
    },
    "language_info": {
      "name": "python"
    }
  },
  "cells": [
    {
      "cell_type": "markdown",
      "source": [
        "neuron from scratch"
      ],
      "metadata": {
        "id": "zz7VpmzuH1kw"
      }
    },
    {
      "cell_type": "code",
      "source": [
        "# version 1"
      ],
      "metadata": {
        "id": "JXq0UkMbXdSt"
      },
      "execution_count": null,
      "outputs": []
    },
    {
      "cell_type": "code",
      "execution_count": 1,
      "metadata": {
        "id": "WTPqMQKpIe0m"
      },
      "outputs": [],
      "source": [
        "# simple neuron class that have 2 inputs thathave 2 weights, no bias, and only relu funciton\n",
        "class neuron:\n",
        "  def __init__(self, w1, w2, i1, i2):\n",
        "    self.w1 = w1\n",
        "    self.w2 = w2\n",
        "    self.i1 = i1\n",
        "    self.i2 = i2\n",
        "    self.added = self.adder(w1,w2,i1,i2)\n",
        "#adds the inputs that are already weighted\n",
        "  def adder(self,w1,w2,i1,i2):\n",
        "    print(w1 * i1 + w2 * i2)\n",
        "    return w1 * i1 + w2 * i2\n",
        "#prints the output relu on the added\n",
        "  def relu(self):\n",
        "    print(self.added * (self.added > 0))"
      ]
    },
    {
      "cell_type": "code",
      "source": [
        "neuron1 = neuron(2,-5,2,2)"
      ],
      "metadata": {
        "colab": {
          "base_uri": "https://localhost:8080/",
          "height": 0
        },
        "id": "cDNHLcMZSEC-",
        "outputId": "be0dbe8b-0482-4ba4-b606-cdf96b1ebebd"
      },
      "execution_count": 2,
      "outputs": [
        {
          "output_type": "stream",
          "name": "stdout",
          "text": [
            "-6\n"
          ]
        }
      ]
    },
    {
      "cell_type": "code",
      "source": [
        "neuron1.relu()"
      ],
      "metadata": {
        "colab": {
          "base_uri": "https://localhost:8080/",
          "height": 0
        },
        "id": "117jJ_bUWjw1",
        "outputId": "f41181cc-fd8b-4d8f-d466-2b8b6aba3827"
      },
      "execution_count": 3,
      "outputs": [
        {
          "output_type": "stream",
          "name": "stdout",
          "text": [
            "0\n"
          ]
        }
      ]
    },
    {
      "cell_type": "code",
      "source": [
        "neuron2 = neuron(2,5,2,2)"
      ],
      "metadata": {
        "colab": {
          "base_uri": "https://localhost:8080/",
          "height": 0
        },
        "id": "Hrh4BHJHZgps",
        "outputId": "8471999b-bfd4-4e12-f9b5-7bd223652aef"
      },
      "execution_count": 4,
      "outputs": [
        {
          "output_type": "stream",
          "name": "stdout",
          "text": [
            "14\n"
          ]
        }
      ]
    },
    {
      "cell_type": "code",
      "source": [
        "neuron2.relu()"
      ],
      "metadata": {
        "colab": {
          "base_uri": "https://localhost:8080/",
          "height": 0
        },
        "id": "uCi5u9AgZjlz",
        "outputId": "f9c86921-d1d8-4f15-ec09-a98b337956d9"
      },
      "execution_count": 5,
      "outputs": [
        {
          "output_type": "stream",
          "name": "stdout",
          "text": [
            "14\n"
          ]
        }
      ]
    },
    {
      "cell_type": "code",
      "source": [],
      "metadata": {
        "id": "w7-qkTz5RPq3"
      },
      "execution_count": 5,
      "outputs": []
    },
    {
      "cell_type": "code",
      "source": [
        "# version 2"
      ],
      "metadata": {
        "id": "cTYRkY_oRPte"
      },
      "execution_count": 5,
      "outputs": []
    },
    {
      "cell_type": "code",
      "source": [
        "from random import randint"
      ],
      "metadata": {
        "id": "f547XNBXQtZ_"
      },
      "execution_count": 18,
      "outputs": []
    },
    {
      "cell_type": "code",
      "source": [
        "# simple neuron class that can accept any number of inputs and weights, no bias, and only relu funciton\n",
        "class Neuron:\n",
        "  def __init__(self, inputs, weights):\n",
        "    self.weights = weights\n",
        "    self.inputs = inputs\n",
        "    self.added = self.adder(weights,inputs)\n",
        "#adds the inputs that are already weighted\n",
        "  def adder(self,weights,inputs):\n",
        "    answer = 0\n",
        "    for x in range(len(self.inputs)):\n",
        "            answer += self.inputs[x] * self.weights[x]\n",
        "    return answer\n",
        "#returns the output relu on the added\n",
        "  def relu(self):\n",
        "    return self.added * (self.added > 0)\n",
        ""
      ],
      "metadata": {
        "id": "BtZVeZpRTTSW"
      },
      "execution_count": 20,
      "outputs": []
    },
    {
      "cell_type": "code",
      "source": [
        "neuron_1 = Neuron([5,6,7,8,9],[1,3,5,7,9])\n",
        "neuron_2 = Neuron([5,6,7,8,9],[1,3,5,7,9])\n",
        "neuron_3 = Neuron([5,6,7,8,9],[1,3,5,7,9])\n",
        "neuron_4 = Neuron([5,6,7,8,9],[1,3,5,7,9])\n",
        "neuron_5 = Neuron([5,6,7,8,9],[1,3,5,7,9])\n",
        "\n",
        "neuron_output = Neuron([neuron_1.relu(),neuron_2.relu(),neuron_3.relu(),neuron_4.relu(),neuron_5.relu()],[0.4,0.7,0.3,0.5,0.8])"
      ],
      "metadata": {
        "id": "CqTRiLTPR2Xl"
      },
      "execution_count": 28,
      "outputs": []
    },
    {
      "cell_type": "code",
      "source": [
        "neuron_1.relu()"
      ],
      "metadata": {
        "colab": {
          "base_uri": "https://localhost:8080/",
          "height": 0
        },
        "id": "_WNlat8aVtle",
        "outputId": "3b38ac63-25c1-4380-c5ec-5ad3a6557f7d"
      },
      "execution_count": 29,
      "outputs": [
        {
          "output_type": "execute_result",
          "data": {
            "text/plain": [
              "195"
            ]
          },
          "metadata": {},
          "execution_count": 29
        }
      ]
    },
    {
      "cell_type": "code",
      "source": [
        "neuron_2.relu()"
      ],
      "metadata": {
        "colab": {
          "base_uri": "https://localhost:8080/",
          "height": 0
        },
        "id": "-uZWkrw_W3MU",
        "outputId": "e91f04ab-d379-448c-a51c-43e41c4032c1"
      },
      "execution_count": 30,
      "outputs": [
        {
          "output_type": "execute_result",
          "data": {
            "text/plain": [
              "195"
            ]
          },
          "metadata": {},
          "execution_count": 30
        }
      ]
    },
    {
      "cell_type": "code",
      "source": [
        "neuron_output.relu()"
      ],
      "metadata": {
        "colab": {
          "base_uri": "https://localhost:8080/",
          "height": 0
        },
        "id": "NQAn4G0sU4TO",
        "outputId": "037bb912-4bb4-4aad-b901-c7d6597d6088"
      },
      "execution_count": 31,
      "outputs": [
        {
          "output_type": "execute_result",
          "data": {
            "text/plain": [
              "526.5"
            ]
          },
          "metadata": {},
          "execution_count": 31
        }
      ]
    }
  ]
}
